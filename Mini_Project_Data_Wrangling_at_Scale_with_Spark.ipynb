{
  "cells": [
    {
      "cell_type": "markdown",
      "metadata": {
        "id": "q0ap-hmpXu-s"
      },
      "source": [
        "# Analyzing Web Server Logs with Apache Spark\n",
        "\n",
        "Apache Spark is an excellent and ideal framework for wrangling, analyzing and modeling on structured and unstructured data - at scale! In this mini-project, we will be focusing on one of the most popular use-cases in the industry - log analytics.\n",
        "\n",
        "Typically, server logs are a very common data source in enterprises and often contain a gold mine of actionable insights and information. Log data comes from many sources in an enterprise, such as the web, client and compute servers, applications, user-generated content, flat files. They can be used for monitoring servers, improving business and customer intelligence, building recommendation systems, fraud detection, and much more.\n",
        "\n",
        "Spark allows you to dump and store your logs in files on disk cheaply, while still providing rich APIs to perform data analysis at scale. This mini-project will show you how to use Apache Spark on real-world production logs from NASA.\n",
        "You will complete the extract, transform, and load (ETL) process in this Apache Spark enviroment. During this process, you will learn why the ETL process is so crucial to the quality of the machine learning work we will be doing later on.\n",
        "\n",
        "\n",
        "There is a total of 15 questions for you to solve along with some interactive examples which will help you learn aspects of leveraging spark for analyzing over 3 million logs at scale.\n",
        "\n",
        "Remember to focus on the __`# TODO: Replace <FILL IN> with appropriate code`__ sections to fill them up with necessary code to solve the desired questions in the notebook"
      ]
    },
    {
      "cell_type": "markdown",
      "metadata": {
        "id": "6IkR5OAXYBVV"
      },
      "source": [
        "# Data extraction:"
      ]
    },
    {
      "cell_type": "markdown",
      "metadata": {
        "id": "W4XXOPlzXu-7"
      },
      "source": [
        "# Step 1 - Loading up Dependencies"
      ]
    },
    {
      "cell_type": "code",
      "execution_count": 1,
      "metadata": {
        "colab": {
          "base_uri": "https://localhost:8080/",
          "height": 165
        },
        "id": "zYGRL15uXu--",
        "outputId": "09b8727e-66f8-4556-f368-ed90adffc48b"
      },
      "outputs": [
        {
          "output_type": "error",
          "ename": "NameError",
          "evalue": "ignored",
          "traceback": [
            "\u001b[0;31m---------------------------------------------------------------------------\u001b[0m",
            "\u001b[0;31mNameError\u001b[0m                                 Traceback (most recent call last)",
            "\u001b[0;32m<ipython-input-1-84901cd22f32>\u001b[0m in \u001b[0;36m<module>\u001b[0;34m()\u001b[0m\n\u001b[0;32m----> 1\u001b[0;31m \u001b[0mspark\u001b[0m\u001b[0;34m\u001b[0m\u001b[0;34m\u001b[0m\u001b[0m\n\u001b[0m",
            "\u001b[0;31mNameError\u001b[0m: name 'spark' is not defined"
          ]
        }
      ],
      "source": [
        "spark"
      ]
    },
    {
      "cell_type": "code",
      "execution_count": 2,
      "metadata": {
        "colab": {
          "base_uri": "https://localhost:8080/",
          "height": 165
        },
        "id": "TQ9VOjOGXu_N",
        "outputId": "4765fff6-0945-4b61-c124-68fe7dd52d83"
      },
      "outputs": [
        {
          "output_type": "error",
          "ename": "NameError",
          "evalue": "ignored",
          "traceback": [
            "\u001b[0;31m---------------------------------------------------------------------------\u001b[0m",
            "\u001b[0;31mNameError\u001b[0m                                 Traceback (most recent call last)",
            "\u001b[0;32m<ipython-input-2-ec37f1a23dc3>\u001b[0m in \u001b[0;36m<module>\u001b[0;34m()\u001b[0m\n\u001b[0;32m----> 1\u001b[0;31m \u001b[0msqlContext\u001b[0m\u001b[0;34m\u001b[0m\u001b[0;34m\u001b[0m\u001b[0m\n\u001b[0m",
            "\u001b[0;31mNameError\u001b[0m: name 'sqlContext' is not defined"
          ]
        }
      ],
      "source": [
        "sqlContext"
      ]
    },
    {
      "cell_type": "code",
      "source": [
        "!pip install pyspark"
      ],
      "metadata": {
        "colab": {
          "base_uri": "https://localhost:8080/"
        },
        "id": "aJOwttsVu8Ub",
        "outputId": "c65052c3-1256-49c1-b993-a6df2ea354e7"
      },
      "execution_count": 4,
      "outputs": [
        {
          "output_type": "stream",
          "name": "stdout",
          "text": [
            "Collecting pyspark\n",
            "  Downloading pyspark-3.2.1.tar.gz (281.4 MB)\n",
            "\u001b[K     |████████████████████████████████| 281.4 MB 36 kB/s \n",
            "\u001b[?25hCollecting py4j==0.10.9.3\n",
            "  Downloading py4j-0.10.9.3-py2.py3-none-any.whl (198 kB)\n",
            "\u001b[K     |████████████████████████████████| 198 kB 40.4 MB/s \n",
            "\u001b[?25hBuilding wheels for collected packages: pyspark\n",
            "  Building wheel for pyspark (setup.py) ... \u001b[?25l\u001b[?25hdone\n",
            "  Created wheel for pyspark: filename=pyspark-3.2.1-py2.py3-none-any.whl size=281853642 sha256=147f844a342198ae26962e302bef607d5d976e23d38ae634ff87f00bf13d9c07\n",
            "  Stored in directory: /root/.cache/pip/wheels/9f/f5/07/7cd8017084dce4e93e84e92efd1e1d5334db05f2e83bcef74f\n",
            "Successfully built pyspark\n",
            "Installing collected packages: py4j, pyspark\n",
            "Successfully installed py4j-0.10.9.3 pyspark-3.2.1\n"
          ]
        }
      ]
    },
    {
      "cell_type": "code",
      "execution_count": 5,
      "metadata": {
        "colab": {
          "base_uri": "https://localhost:8080/"
        },
        "id": "IM6ajIMVXu_V",
        "outputId": "e7940b54-dc13-4932-9bfd-96196ea05439"
      },
      "outputs": [
        {
          "output_type": "stream",
          "name": "stderr",
          "text": [
            "/usr/local/lib/python3.7/dist-packages/pyspark/sql/context.py:79: FutureWarning: Deprecated in 3.0.0. Use SparkSession.builder.getOrCreate() instead.\n",
            "  FutureWarning\n"
          ]
        }
      ],
      "source": [
        "if 'sc' not in locals():\n",
        "    from pyspark.context import SparkContext\n",
        "    from pyspark.sql.context import SQLContext\n",
        "    from pyspark.sql.session import SparkSession\n",
        "    \n",
        "    sc = SparkContext()\n",
        "    sqlContext = SQLContext(sc)\n",
        "    spark = SparkSession(sc)"
      ]
    },
    {
      "cell_type": "code",
      "execution_count": 6,
      "metadata": {
        "id": "r3E2N5WCXu_b"
      },
      "outputs": [],
      "source": [
        "import re\n",
        "import pandas as pd"
      ]
    },
    {
      "cell_type": "code",
      "execution_count": 7,
      "metadata": {
        "colab": {
          "base_uri": "https://localhost:8080/"
        },
        "id": "UupCPIruXu_i",
        "outputId": "a7f61ae1-0b16-4780-cc9a-724ca80ed624"
      },
      "outputs": [
        {
          "output_type": "stream",
          "name": "stdout",
          "text": [
            "<re.Match object; span=(0, 25), match=\"I'm searching for a spark\">\n",
            "<re.Match object; span=(25, 36), match=' in PySpark'>\n"
          ]
        }
      ],
      "source": [
        "m = re.finditer(r'.*?(spark).*?', \"I'm searching for a spark in PySpark\", re.I)\n",
        "for match in m:\n",
        "    print(match)"
      ]
    },
    {
      "cell_type": "markdown",
      "metadata": {
        "id": "Pln9za4iXu_n"
      },
      "source": [
        "For this mini-project, we will analyze datasets from NASA Kennedy Space Center web server in Florida. The full data set is freely available for download [__here__](http://ita.ee.lbl.gov/html/contrib/NASA-HTTP.html).\n",
        "\n",
        "These two traces contain two month's worth of all HTTP requests to the NASA Kennedy Space Center WWW server in Florida. You can head over to the [__website__](http://ita.ee.lbl.gov/html/contrib/NASA-HTTP.html) and download the following files if needed OR just upload the files we have already provided for you into Domino's Cloud Platform (unless you plan to use Spark locally).\n",
        "\n",
        "- Jul 01 to Jul 31, ASCII format, 20.7 MB gzip compressed, 205.2 MB uncompressed: [ftp://ita.ee.lbl.gov/traces/NASA_access_log_Jul95.gz](ftp://ita.ee.lbl.gov/traces/NASA_access_log_Jul95.gz)\n",
        "- Aug 04 to Aug 31, ASCII format, 21.8 MB gzip compressed, 167.8 MB uncompressed: [ftp://ita.ee.lbl.gov/traces/NASA_access_log_Aug95.gz](ftp://ita.ee.lbl.gov/traces/NASA_access_log_Aug95.gz)\n",
        "\n",
        "Make sure both the data files have been uploaded to Databricks under **\"Data\" > \"DBFS\" > \"Tables\"** as a **.txt** file\n",
        "\n",
        "\n",
        "![DBFS](https://drive.google.com/uc?id=1eE9_CgnUW7psBs_Nlk9qrdD2dXh1sU9A)\n",
        "\n"
      ]
    },
    {
      "cell_type": "markdown",
      "metadata": {
        "id": "KESqVXmAXu_p"
      },
      "source": [
        "# Step 2 - Loading and Viewing the Log Dataset\n",
        "\n",
        "Given that our data is stored in the following mentioned path, let's load it into a DataFrame. We'll do this in steps. First, we'll use `sqlContext.read.text()` or `spark.read.text()` to read the text file. This will produce a DataFrame with a single string column called `value`."
      ]
    },
    {
      "cell_type": "markdown",
      "metadata": {
        "id": "pis2_lWcXu_u"
      },
      "source": [
        "### Taking a look at the metadata of our dataframe"
      ]
    },
    {
      "cell_type": "code",
      "execution_count": 13,
      "metadata": {
        "id": "f4-znXsmXu_w"
      },
      "outputs": [],
      "source": [
        "# make sure you have upload NASA_access_log_Aug95.txt and NASA_access_log_Jul95.txt onto Spark before you run the following code\n",
        "\n",
        "base_df_rdd = spark.sparkContext.textFile('/content/NASA_access_log_Aug95.gz')"
      ]
    },
    {
      "cell_type": "code",
      "source": [
        "base_df = spark.read.csv(\"/content/*.gz\") "
      ],
      "metadata": {
        "id": "tIWa24Fdz6Jy"
      },
      "execution_count": 45,
      "outputs": []
    },
    {
      "cell_type": "code",
      "source": [
        "base_df_rdd = spark.sparkContext.textFile(\"/content/*\")"
      ],
      "metadata": {
        "id": "eBlBOD8eybp4"
      },
      "execution_count": 46,
      "outputs": []
    },
    {
      "cell_type": "code",
      "execution_count": 47,
      "metadata": {
        "colab": {
          "base_uri": "https://localhost:8080/"
        },
        "id": "IBHQ8QQkXu_0",
        "outputId": "02776af4-277c-4316-e583-14d12223a17e"
      },
      "outputs": [
        {
          "output_type": "execute_result",
          "data": {
            "text/plain": [
              "pyspark.sql.dataframe.DataFrame"
            ]
          },
          "metadata": {},
          "execution_count": 47
        }
      ],
      "source": [
        "type(base_df)"
      ]
    },
    {
      "cell_type": "markdown",
      "metadata": {
        "id": "gOKkUBQvXu_5"
      },
      "source": [
        "You can also convert a dataframe to an RDD if needed"
      ]
    },
    {
      "cell_type": "code",
      "execution_count": 10,
      "metadata": {
        "id": "hMByB80sXu_6"
      },
      "outputs": [],
      "source": [
        "# base_df_rdd = base_df.rdd\n",
        "# type(base_df_rdd)"
      ]
    },
    {
      "cell_type": "markdown",
      "metadata": {
        "id": "oi1QtXBhXvAB"
      },
      "source": [
        "### Viewing sample data in our dataframe\n",
        "Looks like it needs to be wrangled and parsed!"
      ]
    },
    {
      "cell_type": "code",
      "execution_count": 48,
      "metadata": {
        "colab": {
          "base_uri": "https://localhost:8080/"
        },
        "id": "iertYldRXvAD",
        "outputId": "48eb4522-c6a3-4411-c0ff-6a9b3a34d6b3"
      },
      "outputs": [
        {
          "output_type": "stream",
          "name": "stdout",
          "text": [
            "+-----------------------------------------------------------------------------------------------------------------------+\n",
            "|_c0                                                                                                                    |\n",
            "+-----------------------------------------------------------------------------------------------------------------------+\n",
            "|199.72.81.55 - - [01/Jul/1995:00:00:01 -0400] \"GET /history/apollo/ HTTP/1.0\" 200 6245                                 |\n",
            "|unicomp6.unicomp.net - - [01/Jul/1995:00:00:06 -0400] \"GET /shuttle/countdown/ HTTP/1.0\" 200 3985                      |\n",
            "|199.120.110.21 - - [01/Jul/1995:00:00:09 -0400] \"GET /shuttle/missions/sts-73/mission-sts-73.html HTTP/1.0\" 200 4085   |\n",
            "|burger.letters.com - - [01/Jul/1995:00:00:11 -0400] \"GET /shuttle/countdown/liftoff.html HTTP/1.0\" 304 0               |\n",
            "|199.120.110.21 - - [01/Jul/1995:00:00:11 -0400] \"GET /shuttle/missions/sts-73/sts-73-patch-small.gif HTTP/1.0\" 200 4179|\n",
            "|burger.letters.com - - [01/Jul/1995:00:00:12 -0400] \"GET /images/NASA-logosmall.gif HTTP/1.0\" 304 0                    |\n",
            "|burger.letters.com - - [01/Jul/1995:00:00:12 -0400] \"GET /shuttle/countdown/video/livevideo.gif HTTP/1.0\" 200 0        |\n",
            "|205.212.115.106 - - [01/Jul/1995:00:00:12 -0400] \"GET /shuttle/countdown/countdown.html HTTP/1.0\" 200 3985             |\n",
            "|d104.aa.net - - [01/Jul/1995:00:00:13 -0400] \"GET /shuttle/countdown/ HTTP/1.0\" 200 3985                               |\n",
            "|129.94.144.152 - - [01/Jul/1995:00:00:13 -0400] \"GET / HTTP/1.0\" 200 7074                                              |\n",
            "+-----------------------------------------------------------------------------------------------------------------------+\n",
            "only showing top 10 rows\n",
            "\n"
          ]
        }
      ],
      "source": [
        "base_df.show(10, truncate=False)"
      ]
    },
    {
      "cell_type": "markdown",
      "metadata": {
        "id": "T9aeiekzXvAJ"
      },
      "source": [
        "Getting data from an RDD is slightly different. You can see how the data representation is different in the following RDD"
      ]
    },
    {
      "cell_type": "code",
      "execution_count": 49,
      "metadata": {
        "colab": {
          "base_uri": "https://localhost:8080/"
        },
        "id": "PCdKKlCeXvAK",
        "outputId": "70873e34-0fa5-4215-8800-5e8377dd89f8"
      },
      "outputs": [
        {
          "output_type": "execute_result",
          "data": {
            "text/plain": [
              "['in24.inetnebr.com - - [01/Aug/1995:00:00:01 -0400] \"GET /shuttle/missions/sts-68/news/sts-68-mcc-05.txt HTTP/1.0\" 200 1839',\n",
              " 'uplherc.upl.com - - [01/Aug/1995:00:00:07 -0400] \"GET / HTTP/1.0\" 304 0',\n",
              " 'uplherc.upl.com - - [01/Aug/1995:00:00:08 -0400] \"GET /images/ksclogo-medium.gif HTTP/1.0\" 304 0',\n",
              " 'uplherc.upl.com - - [01/Aug/1995:00:00:08 -0400] \"GET /images/MOSAIC-logosmall.gif HTTP/1.0\" 304 0',\n",
              " 'uplherc.upl.com - - [01/Aug/1995:00:00:08 -0400] \"GET /images/USA-logosmall.gif HTTP/1.0\" 304 0',\n",
              " 'ix-esc-ca2-07.ix.netcom.com - - [01/Aug/1995:00:00:09 -0400] \"GET /images/launch-logo.gif HTTP/1.0\" 200 1713',\n",
              " 'uplherc.upl.com - - [01/Aug/1995:00:00:10 -0400] \"GET /images/WORLD-logosmall.gif HTTP/1.0\" 304 0',\n",
              " 'slppp6.intermind.net - - [01/Aug/1995:00:00:10 -0400] \"GET /history/skylab/skylab.html HTTP/1.0\" 200 1687',\n",
              " 'piweba4y.prodigy.com - - [01/Aug/1995:00:00:10 -0400] \"GET /images/launchmedium.gif HTTP/1.0\" 200 11853',\n",
              " 'slppp6.intermind.net - - [01/Aug/1995:00:00:11 -0400] \"GET /history/skylab/skylab-small.gif HTTP/1.0\" 200 9202']"
            ]
          },
          "metadata": {},
          "execution_count": 49
        }
      ],
      "source": [
        "base_df_rdd.take(10)"
      ]
    },
    {
      "cell_type": "markdown",
      "metadata": {
        "id": "asaanbGIYfR8"
      },
      "source": [
        "# Data transformation"
      ]
    },
    {
      "cell_type": "markdown",
      "metadata": {
        "id": "yv5kCt3xXvAP"
      },
      "source": [
        "# Step 1 - Data Wrangling\n",
        "\n",
        "In this section, we will try and clean and parse our log dataset to really extract structured attributes with meaningful information from each log message.\n",
        "\n",
        "### Data understanding\n",
        "If you're familiar with web server logs, you'll recognize that the above displayed data is in [Common Log Format](https://www.w3.org/Daemon/User/Config/Logging.html#common-logfile-format). \n",
        "\n",
        "The fields are:\n",
        "__`remotehost rfc931 authuser [date] \"request\" status bytes`__\n",
        "\n",
        "\n",
        "| field         | meaning                                                                |\n",
        "| ------------- | ---------------------------------------------------------------------- |\n",
        "| _remotehost_  | Remote hostname (or IP number if DNS hostname is not available or if [DNSLookup](https://www.w3.org/Daemon/User/Config/General.html#DNSLookup) is off).       |\n",
        "| _rfc931_      | The remote logname of the user if at all it is present. |\n",
        "| _authuser_    | The username of the remote user after authentication by the HTTP server.  |\n",
        "| _[date]_      | Date and time of the request.                                      |\n",
        "| _\"request\"_   | The request, exactly as it came from the browser or client.            |\n",
        "| _status_      | The [HTTP status code](https://en.wikipedia.org/wiki/List_of_HTTP_status_codes) the server sent back to the client.               |\n",
        "| _bytes_       | The number of bytes (`Content-Length`) transferred to the client.      |\n",
        "\n",
        "We will need to use some specific techniques to parse, match and extract these attributes from the log data"
      ]
    },
    {
      "cell_type": "markdown",
      "metadata": {
        "id": "9aCEcwBLXvAQ"
      },
      "source": [
        "## Data Parsing and Extraction with Regular Expressions\n",
        "\n",
        "Next, we have to parse it into individual columns. We'll use the special built-in [regexp\\_extract()](http://spark.apache.org/docs/latest/api/python/pyspark.sql.html#pyspark.sql.functions.regexp_extract)\n",
        "function to do the parsing. This function matches a column against a regular expression with one or more [capture groups](http://regexone.com/lesson/capturing_groups) and allows you to extract one of the matched groups. We'll use one regular expression for each field we wish to extract.\n",
        "\n",
        "You must have heard or used a fair bit of regular expressions by now. If you find regular expressions confusing (and they certainly _can_ be), and you want to learn more about them, we recommend checking out the\n",
        "[RegexOne web site](http://regexone.com/). You might also find [_Regular Expressions Cookbook_](http://shop.oreilly.com/product/0636920023630.do), by Goyvaerts and Levithan, to be useful as a reference."
      ]
    },
    {
      "cell_type": "markdown",
      "metadata": {
        "id": "a3TFNjb1XvAS"
      },
      "source": [
        "#### Let's take a look at our dataset dimensions"
      ]
    },
    {
      "cell_type": "code",
      "execution_count": 50,
      "metadata": {
        "colab": {
          "base_uri": "https://localhost:8080/"
        },
        "id": "ncbKGPMJXvAT",
        "outputId": "46b1939f-6278-426d-f06b-28e515b52b45"
      },
      "outputs": [
        {
          "output_type": "stream",
          "name": "stdout",
          "text": [
            "(3461613, 1)\n"
          ]
        }
      ],
      "source": [
        "print((base_df.count(), len(base_df.columns)))"
      ]
    },
    {
      "cell_type": "markdown",
      "metadata": {
        "id": "dtZOfHsVXvAZ"
      },
      "source": [
        "Let's extract and take a look at some sample log messages"
      ]
    },
    {
      "cell_type": "code",
      "execution_count": 54,
      "metadata": {
        "colab": {
          "base_uri": "https://localhost:8080/"
        },
        "id": "-3sfUy4NXvAa",
        "outputId": "7759bbbe-52d7-4bd2-9865-a7a9b15099cb"
      },
      "outputs": [
        {
          "output_type": "execute_result",
          "data": {
            "text/plain": [
              "[Row(_c0='199.72.81.55 - - [01/Jul/1995:00:00:01 -0400] \"GET /history/apollo/ HTTP/1.0\" 200 6245'),\n",
              " Row(_c0='unicomp6.unicomp.net - - [01/Jul/1995:00:00:06 -0400] \"GET /shuttle/countdown/ HTTP/1.0\" 200 3985'),\n",
              " Row(_c0='199.120.110.21 - - [01/Jul/1995:00:00:09 -0400] \"GET /shuttle/missions/sts-73/mission-sts-73.html HTTP/1.0\" 200 4085'),\n",
              " Row(_c0='burger.letters.com - - [01/Jul/1995:00:00:11 -0400] \"GET /shuttle/countdown/liftoff.html HTTP/1.0\" 304 0'),\n",
              " Row(_c0='199.120.110.21 - - [01/Jul/1995:00:00:11 -0400] \"GET /shuttle/missions/sts-73/sts-73-patch-small.gif HTTP/1.0\" 200 4179'),\n",
              " Row(_c0='burger.letters.com - - [01/Jul/1995:00:00:12 -0400] \"GET /images/NASA-logosmall.gif HTTP/1.0\" 304 0'),\n",
              " Row(_c0='burger.letters.com - - [01/Jul/1995:00:00:12 -0400] \"GET /shuttle/countdown/video/livevideo.gif HTTP/1.0\" 200 0'),\n",
              " Row(_c0='205.212.115.106 - - [01/Jul/1995:00:00:12 -0400] \"GET /shuttle/countdown/countdown.html HTTP/1.0\" 200 3985'),\n",
              " Row(_c0='d104.aa.net - - [01/Jul/1995:00:00:13 -0400] \"GET /shuttle/countdown/ HTTP/1.0\" 200 3985'),\n",
              " Row(_c0='129.94.144.152 - - [01/Jul/1995:00:00:13 -0400] \"GET / HTTP/1.0\" 200 7074'),\n",
              " Row(_c0='unicomp6.unicomp.net - - [01/Jul/1995:00:00:14 -0400] \"GET /shuttle/countdown/count.gif HTTP/1.0\" 200 40310'),\n",
              " Row(_c0='unicomp6.unicomp.net - - [01/Jul/1995:00:00:14 -0400] \"GET /images/NASA-logosmall.gif HTTP/1.0\" 200 786'),\n",
              " Row(_c0='unicomp6.unicomp.net - - [01/Jul/1995:00:00:14 -0400] \"GET /images/KSC-logosmall.gif HTTP/1.0\" 200 1204'),\n",
              " Row(_c0='d104.aa.net - - [01/Jul/1995:00:00:15 -0400] \"GET /shuttle/countdown/count.gif HTTP/1.0\" 200 40310'),\n",
              " Row(_c0='d104.aa.net - - [01/Jul/1995:00:00:15 -0400] \"GET /images/NASA-logosmall.gif HTTP/1.0\" 200 786')]"
            ]
          },
          "metadata": {},
          "execution_count": 54
        }
      ],
      "source": [
        "# sample_logs = [item['value'] for item in base_df.take(15)]\n",
        "# sample_logs\n",
        "sample_logs = [item for item in base_df.take(15)]\n",
        "sample_logs"
      ]
    },
    {
      "cell_type": "markdown",
      "metadata": {
        "id": "0aPYBjkwXvAf"
      },
      "source": [
        "### Extracting host names\n",
        "\n",
        "Let's try and write some regular expressions to extract the host name from the logs"
      ]
    },
    {
      "cell_type": "code",
      "execution_count": 66,
      "metadata": {
        "colab": {
          "base_uri": "https://localhost:8080/"
        },
        "id": "WarNo8bGXvAh",
        "outputId": "21fbbe72-a28c-4b6f-955c-8f236b98721d"
      },
      "outputs": [
        {
          "output_type": "execute_result",
          "data": {
            "text/plain": [
              "[\"Row(_c0='199.72.81.55\",\n",
              " \"Row(_c0='unicomp6.unicomp.net\",\n",
              " \"Row(_c0='199.120.110.21\",\n",
              " \"Row(_c0='burger.letters.com\",\n",
              " \"Row(_c0='199.120.110.21\",\n",
              " \"Row(_c0='burger.letters.com\",\n",
              " \"Row(_c0='burger.letters.com\",\n",
              " \"Row(_c0='205.212.115.106\",\n",
              " \"Row(_c0='d104.aa.net\",\n",
              " \"Row(_c0='129.94.144.152\",\n",
              " \"Row(_c0='unicomp6.unicomp.net\",\n",
              " \"Row(_c0='unicomp6.unicomp.net\",\n",
              " \"Row(_c0='unicomp6.unicomp.net\",\n",
              " \"Row(_c0='d104.aa.net\",\n",
              " \"Row(_c0='d104.aa.net\"]"
            ]
          },
          "metadata": {},
          "execution_count": 66
        }
      ],
      "source": [
        "host_pattern = r'(^\\S+\\.[\\S+\\.]+\\S+)\\s'\n",
        "hosts = [re.search(host_pattern, str(item)).group(1)\n",
        "           if re.search(host_pattern, str(item))\n",
        "           else 'no match'\n",
        "           for item in sample_logs]\n",
        "hosts"
      ]
    },
    {
      "cell_type": "markdown",
      "metadata": {
        "id": "TcZrGpgwXvAk"
      },
      "source": [
        "### Extracting timestamps \n",
        "\n",
        "Let's now try and use regular expressions to extract the timestamp fields from the logs"
      ]
    },
    {
      "cell_type": "code",
      "execution_count": 68,
      "metadata": {
        "colab": {
          "base_uri": "https://localhost:8080/"
        },
        "id": "GOot8niKXvAl",
        "outputId": "52d1a144-29cc-4172-ac93-f5c708fd292b"
      },
      "outputs": [
        {
          "output_type": "execute_result",
          "data": {
            "text/plain": [
              "['01/Jul/1995:00:00:01 -0400',\n",
              " '01/Jul/1995:00:00:06 -0400',\n",
              " '01/Jul/1995:00:00:09 -0400',\n",
              " '01/Jul/1995:00:00:11 -0400',\n",
              " '01/Jul/1995:00:00:11 -0400',\n",
              " '01/Jul/1995:00:00:12 -0400',\n",
              " '01/Jul/1995:00:00:12 -0400',\n",
              " '01/Jul/1995:00:00:12 -0400',\n",
              " '01/Jul/1995:00:00:13 -0400',\n",
              " '01/Jul/1995:00:00:13 -0400',\n",
              " '01/Jul/1995:00:00:14 -0400',\n",
              " '01/Jul/1995:00:00:14 -0400',\n",
              " '01/Jul/1995:00:00:14 -0400',\n",
              " '01/Jul/1995:00:00:15 -0400',\n",
              " '01/Jul/1995:00:00:15 -0400']"
            ]
          },
          "metadata": {},
          "execution_count": 68
        }
      ],
      "source": [
        "ts_pattern = r'\\[(\\d{2}/\\w{3}/\\d{4}:\\d{2}:\\d{2}:\\d{2} -\\d{4})]'\n",
        "timestamps = [re.search(ts_pattern, str(item)).group(1) for item in sample_logs]\n",
        "timestamps"
      ]
    },
    {
      "cell_type": "markdown",
      "metadata": {
        "id": "CKJ5F8tCXvAo"
      },
      "source": [
        "### Extracting HTTP Request Method, URIs and Protocol \n",
        "\n",
        "Let's now try and use regular expressions to extract the HTTP request methods, URIs and Protocol patterns fields from the logs"
      ]
    },
    {
      "cell_type": "code",
      "execution_count": 69,
      "metadata": {
        "colab": {
          "base_uri": "https://localhost:8080/"
        },
        "id": "TZvnPVXeXvAp",
        "outputId": "a1375f49-4537-4cba-abb0-e2be96d3d366"
      },
      "outputs": [
        {
          "output_type": "execute_result",
          "data": {
            "text/plain": [
              "[('GET', '/history/apollo/', 'HTTP/1.0'),\n",
              " ('GET', '/shuttle/countdown/', 'HTTP/1.0'),\n",
              " ('GET', '/shuttle/missions/sts-73/mission-sts-73.html', 'HTTP/1.0'),\n",
              " ('GET', '/shuttle/countdown/liftoff.html', 'HTTP/1.0'),\n",
              " ('GET', '/shuttle/missions/sts-73/sts-73-patch-small.gif', 'HTTP/1.0'),\n",
              " ('GET', '/images/NASA-logosmall.gif', 'HTTP/1.0'),\n",
              " ('GET', '/shuttle/countdown/video/livevideo.gif', 'HTTP/1.0'),\n",
              " ('GET', '/shuttle/countdown/countdown.html', 'HTTP/1.0'),\n",
              " ('GET', '/shuttle/countdown/', 'HTTP/1.0'),\n",
              " ('GET', '/', 'HTTP/1.0'),\n",
              " ('GET', '/shuttle/countdown/count.gif', 'HTTP/1.0'),\n",
              " ('GET', '/images/NASA-logosmall.gif', 'HTTP/1.0'),\n",
              " ('GET', '/images/KSC-logosmall.gif', 'HTTP/1.0'),\n",
              " ('GET', '/shuttle/countdown/count.gif', 'HTTP/1.0'),\n",
              " ('GET', '/images/NASA-logosmall.gif', 'HTTP/1.0')]"
            ]
          },
          "metadata": {},
          "execution_count": 69
        }
      ],
      "source": [
        "method_uri_protocol_pattern = r'\\\"(\\S+)\\s(\\S+)\\s*(\\S*)\\\"'\n",
        "method_uri_protocol = [re.search(method_uri_protocol_pattern, str(item)).groups()\n",
        "               if re.search(method_uri_protocol_pattern, str(item))\n",
        "               else 'no match'\n",
        "              for item in sample_logs]\n",
        "method_uri_protocol"
      ]
    },
    {
      "cell_type": "markdown",
      "metadata": {
        "id": "oaBizluJXvAu"
      },
      "source": [
        "### Building an intermediate parsed dataframe\n",
        "\n",
        "Let's try and use our regular expressions we have implemented so far into parsing and extracting the relevant entities in separate columns in a new dataframe"
      ]
    },
    {
      "cell_type": "code",
      "execution_count": 80,
      "metadata": {
        "colab": {
          "base_uri": "https://localhost:8080/"
        },
        "id": "MLI8LUVPXvAv",
        "outputId": "2570b787-3d13-4929-91c1-67dcabb347b4"
      },
      "outputs": [
        {
          "output_type": "stream",
          "name": "stdout",
          "text": [
            "+--------------------+--------------------------+------+-----------------------------------------------+--------+\n",
            "|host                |timestamp                 |method|endpoint                                       |protocol|\n",
            "+--------------------+--------------------------+------+-----------------------------------------------+--------+\n",
            "|199.72.81.55        |01/Jul/1995:00:00:01 -0400|GET   |/history/apollo/                               |HTTP/1.0|\n",
            "|unicomp6.unicomp.net|01/Jul/1995:00:00:06 -0400|GET   |/shuttle/countdown/                            |HTTP/1.0|\n",
            "|199.120.110.21      |01/Jul/1995:00:00:09 -0400|GET   |/shuttle/missions/sts-73/mission-sts-73.html   |HTTP/1.0|\n",
            "|burger.letters.com  |01/Jul/1995:00:00:11 -0400|GET   |/shuttle/countdown/liftoff.html                |HTTP/1.0|\n",
            "|199.120.110.21      |01/Jul/1995:00:00:11 -0400|GET   |/shuttle/missions/sts-73/sts-73-patch-small.gif|HTTP/1.0|\n",
            "|burger.letters.com  |01/Jul/1995:00:00:12 -0400|GET   |/images/NASA-logosmall.gif                     |HTTP/1.0|\n",
            "|burger.letters.com  |01/Jul/1995:00:00:12 -0400|GET   |/shuttle/countdown/video/livevideo.gif         |HTTP/1.0|\n",
            "|205.212.115.106     |01/Jul/1995:00:00:12 -0400|GET   |/shuttle/countdown/countdown.html              |HTTP/1.0|\n",
            "|d104.aa.net         |01/Jul/1995:00:00:13 -0400|GET   |/shuttle/countdown/                            |HTTP/1.0|\n",
            "|129.94.144.152      |01/Jul/1995:00:00:13 -0400|GET   |/                                              |HTTP/1.0|\n",
            "+--------------------+--------------------------+------+-----------------------------------------------+--------+\n",
            "only showing top 10 rows\n",
            "\n",
            "(3461613, 5)\n"
          ]
        }
      ],
      "source": [
        "from pyspark.sql.functions import regexp_extract\n",
        "\n",
        "logs_df = base_df.select(regexp_extract('_c0', host_pattern, 1).alias('host'),\n",
        "                         regexp_extract('_c0', ts_pattern, 1).alias('timestamp'),\n",
        "                         regexp_extract('_c0', method_uri_protocol_pattern, 1).alias('method'),\n",
        "                         regexp_extract('_c0', method_uri_protocol_pattern, 2).alias('endpoint'),\n",
        "                         regexp_extract('_c0', method_uri_protocol_pattern, 3).alias('protocol'))\n",
        "logs_df.show(10, truncate=False)\n",
        "print((logs_df.count(), len(logs_df.columns)))"
      ]
    },
    {
      "cell_type": "markdown",
      "metadata": {
        "id": "-c-LK4TNXvAy"
      },
      "source": [
        "### Extracting HTTP Status Codes\n",
        "\n",
        "Let's now try and use regular expressions to extract the HTTP status codes from the logs"
      ]
    },
    {
      "cell_type": "code",
      "execution_count": 82,
      "metadata": {
        "colab": {
          "base_uri": "https://localhost:8080/"
        },
        "id": "kvWWXeTcXvA1",
        "outputId": "afdcce60-3155-4994-ab2f-5ed9d96723d2"
      },
      "outputs": [
        {
          "output_type": "stream",
          "name": "stdout",
          "text": [
            "['200', '200', '200', '304', '200', '304', '200', '200', '200', '200', '200', '200', '200', '200', '200']\n"
          ]
        }
      ],
      "source": [
        "status_pattern = r'\\s(\\d{3})\\s'\n",
        "status = [re.search(status_pattern, str(item)).group(1) for item in sample_logs]\n",
        "print(status)"
      ]
    },
    {
      "cell_type": "markdown",
      "metadata": {
        "id": "jFemwBnSXvA4"
      },
      "source": [
        "### Extracting HTTP Response Content Size\n",
        "\n",
        "Let's now try and use regular expressions to extract the HTTP response content size from the logs"
      ]
    },
    {
      "cell_type": "code",
      "execution_count": 84,
      "metadata": {
        "colab": {
          "base_uri": "https://localhost:8080/",
          "height": 322
        },
        "id": "l0kmQOqjXvA5",
        "outputId": "882d9dca-4320-4f02-8e38-86d4f972b756"
      },
      "outputs": [
        {
          "output_type": "error",
          "ename": "AttributeError",
          "evalue": "ignored",
          "traceback": [
            "\u001b[0;31m---------------------------------------------------------------------------\u001b[0m",
            "\u001b[0;31mAttributeError\u001b[0m                            Traceback (most recent call last)",
            "\u001b[0;32m<ipython-input-84-719d6ddbd05c>\u001b[0m in \u001b[0;36m<module>\u001b[0;34m()\u001b[0m\n\u001b[1;32m      1\u001b[0m \u001b[0mcontent_size_pattern\u001b[0m \u001b[0;34m=\u001b[0m \u001b[0;34mr'\\s(\\d+)$'\u001b[0m\u001b[0;34m\u001b[0m\u001b[0;34m\u001b[0m\u001b[0m\n\u001b[0;32m----> 2\u001b[0;31m \u001b[0mcontent_size\u001b[0m \u001b[0;34m=\u001b[0m \u001b[0;34m[\u001b[0m\u001b[0mre\u001b[0m\u001b[0;34m.\u001b[0m\u001b[0msearch\u001b[0m\u001b[0;34m(\u001b[0m\u001b[0mcontent_size_pattern\u001b[0m\u001b[0;34m,\u001b[0m \u001b[0mstr\u001b[0m\u001b[0;34m(\u001b[0m\u001b[0mitem\u001b[0m\u001b[0;34m)\u001b[0m\u001b[0;34m)\u001b[0m\u001b[0;34m.\u001b[0m\u001b[0mgroups\u001b[0m\u001b[0;34m(\u001b[0m\u001b[0;36m1\u001b[0m\u001b[0;34m)\u001b[0m \u001b[0;32mfor\u001b[0m \u001b[0mitem\u001b[0m \u001b[0;32min\u001b[0m \u001b[0msample_logs\u001b[0m\u001b[0;34m]\u001b[0m\u001b[0;34m\u001b[0m\u001b[0;34m\u001b[0m\u001b[0m\n\u001b[0m\u001b[1;32m      3\u001b[0m \u001b[0;34m\u001b[0m\u001b[0m\n\u001b[1;32m      4\u001b[0m \u001b[0mprint\u001b[0m\u001b[0;34m(\u001b[0m\u001b[0mcontent_size\u001b[0m\u001b[0;34m)\u001b[0m\u001b[0;34m\u001b[0m\u001b[0;34m\u001b[0m\u001b[0m\n",
            "\u001b[0;32m<ipython-input-84-719d6ddbd05c>\u001b[0m in \u001b[0;36m<listcomp>\u001b[0;34m(.0)\u001b[0m\n\u001b[1;32m      1\u001b[0m \u001b[0mcontent_size_pattern\u001b[0m \u001b[0;34m=\u001b[0m \u001b[0;34mr'\\s(\\d+)$'\u001b[0m\u001b[0;34m\u001b[0m\u001b[0;34m\u001b[0m\u001b[0m\n\u001b[0;32m----> 2\u001b[0;31m \u001b[0mcontent_size\u001b[0m \u001b[0;34m=\u001b[0m \u001b[0;34m[\u001b[0m\u001b[0mre\u001b[0m\u001b[0;34m.\u001b[0m\u001b[0msearch\u001b[0m\u001b[0;34m(\u001b[0m\u001b[0mcontent_size_pattern\u001b[0m\u001b[0;34m,\u001b[0m \u001b[0mstr\u001b[0m\u001b[0;34m(\u001b[0m\u001b[0mitem\u001b[0m\u001b[0;34m)\u001b[0m\u001b[0;34m)\u001b[0m\u001b[0;34m.\u001b[0m\u001b[0mgroups\u001b[0m\u001b[0;34m(\u001b[0m\u001b[0;36m1\u001b[0m\u001b[0;34m)\u001b[0m \u001b[0;32mfor\u001b[0m \u001b[0mitem\u001b[0m \u001b[0;32min\u001b[0m \u001b[0msample_logs\u001b[0m\u001b[0;34m]\u001b[0m\u001b[0;34m\u001b[0m\u001b[0;34m\u001b[0m\u001b[0m\n\u001b[0m\u001b[1;32m      3\u001b[0m \u001b[0;34m\u001b[0m\u001b[0m\n\u001b[1;32m      4\u001b[0m \u001b[0mprint\u001b[0m\u001b[0;34m(\u001b[0m\u001b[0mcontent_size\u001b[0m\u001b[0;34m)\u001b[0m\u001b[0;34m\u001b[0m\u001b[0;34m\u001b[0m\u001b[0m\n",
            "\u001b[0;31mAttributeError\u001b[0m: 'NoneType' object has no attribute 'groups'"
          ]
        }
      ],
      "source": [
        "content_size_pattern = r'\\s(\\d+)$'\n",
        "content_size = [re.search(content_size_pattern, str(item)).group(1) for item in sample_logs]\n",
        "\n",
        "print(content_size)"
      ]
    },
    {
      "cell_type": "markdown",
      "metadata": {
        "id": "DHPbsgMsXvA8"
      },
      "source": [
        "## Q1: Your Turn: Putting it all together \n",
        "\n",
        "Let's now try and leverage all the regular expression patterns we previously built and use the `regexp_extract(...)` method to build our dataframe with all the log attributes neatly extracted in their own separate columns.\n",
        "\n",
        "- You can reuse the code we used previously to build the intermediate dataframe\n",
        "- Remember to cast the HTTP status code and content size as integers. \n",
        "- You can cast data as integer type using the following: __`regexp_extract('value', ...., ...).cast('integer').alias(...)`__"
      ]
    },
    {
      "cell_type": "code",
      "execution_count": 85,
      "metadata": {
        "colab": {
          "base_uri": "https://localhost:8080/"
        },
        "id": "bM4iBWjRXvA-",
        "outputId": "302b4d0c-ab91-4862-9825-b7932723de6e"
      },
      "outputs": [
        {
          "output_type": "stream",
          "name": "stdout",
          "text": [
            "+------+------------+--------------------+--------------------+------+--------------------+--------+\n",
            "|status|content_size|                host|           timestamp|method|            endpoint|protocol|\n",
            "+------+------------+--------------------+--------------------+------+--------------------+--------+\n",
            "|   200|        6245|        199.72.81.55|01/Jul/1995:00:00...|   GET|    /history/apollo/|HTTP/1.0|\n",
            "|   200|        3985|unicomp6.unicomp.net|01/Jul/1995:00:00...|   GET| /shuttle/countdown/|HTTP/1.0|\n",
            "|   200|        4085|      199.120.110.21|01/Jul/1995:00:00...|   GET|/shuttle/missions...|HTTP/1.0|\n",
            "|   304|           0|  burger.letters.com|01/Jul/1995:00:00...|   GET|/shuttle/countdow...|HTTP/1.0|\n",
            "|   200|        4179|      199.120.110.21|01/Jul/1995:00:00...|   GET|/shuttle/missions...|HTTP/1.0|\n",
            "|   304|           0|  burger.letters.com|01/Jul/1995:00:00...|   GET|/images/NASA-logo...|HTTP/1.0|\n",
            "|   200|           0|  burger.letters.com|01/Jul/1995:00:00...|   GET|/shuttle/countdow...|HTTP/1.0|\n",
            "|   200|        3985|     205.212.115.106|01/Jul/1995:00:00...|   GET|/shuttle/countdow...|HTTP/1.0|\n",
            "|   200|        3985|         d104.aa.net|01/Jul/1995:00:00...|   GET| /shuttle/countdown/|HTTP/1.0|\n",
            "|   200|        7074|      129.94.144.152|01/Jul/1995:00:00...|   GET|                   /|HTTP/1.0|\n",
            "+------+------------+--------------------+--------------------+------+--------------------+--------+\n",
            "only showing top 10 rows\n",
            "\n",
            "(3461613, 7)\n"
          ]
        }
      ],
      "source": [
        "# TODO: Replace <FILL IN> with appropriate code\n",
        "\n",
        "logs_df = base_df.select(regexp_extract('_c0', status_pattern, 1).cast('integer').alias('status'),\n",
        "                         regexp_extract('_c0', content_size_pattern, 1).cast('integer').alias('content_size'),\n",
        "                         regexp_extract('_c0', host_pattern, 1).alias('host'),\n",
        "                         regexp_extract('_c0', ts_pattern, 1).alias('timestamp'),\n",
        "                         regexp_extract('_c0', method_uri_protocol_pattern, 1).alias('method'),\n",
        "                         regexp_extract('_c0', method_uri_protocol_pattern, 2).alias('endpoint'),\n",
        "                         regexp_extract('_c0', method_uri_protocol_pattern, 3).alias('protocol'))\n",
        "logs_df.show(10, truncate=True)\n",
        "print((logs_df.count(), len(logs_df.columns)))"
      ]
    },
    {
      "cell_type": "markdown",
      "metadata": {
        "id": "EgLGxYRYXvBB"
      },
      "source": [
        "## Finding Missing Values\n",
        "\n",
        "Missing and null values are the bane of data analysis and machine learning. Let's see how well our data parsing and extraction logic worked. First, let's verify that there are no null rows in the original dataframe."
      ]
    },
    {
      "cell_type": "code",
      "execution_count": 86,
      "metadata": {
        "colab": {
          "base_uri": "https://localhost:8080/"
        },
        "id": "O4ppVUoJXvBC",
        "outputId": "0a09aa81-01b9-41d0-fbb1-5e779bc69838"
      },
      "outputs": [
        {
          "output_type": "execute_result",
          "data": {
            "text/plain": [
              "0"
            ]
          },
          "metadata": {},
          "execution_count": 86
        }
      ],
      "source": [
        "base_df.filter(base_df['_c0'].isNull()).count()"
      ]
    },
    {
      "cell_type": "markdown",
      "metadata": {
        "id": "7V0g6vHcXvBG"
      },
      "source": [
        "If our data parsing and extraction worked properly, we should not have any rows with potential null values. Let's try and put that to test!"
      ]
    },
    {
      "cell_type": "code",
      "execution_count": 87,
      "metadata": {
        "colab": {
          "base_uri": "https://localhost:8080/"
        },
        "id": "4NFuk6QTXvBH",
        "outputId": "f70b611e-0357-4971-c310-f409626013e4"
      },
      "outputs": [
        {
          "output_type": "execute_result",
          "data": {
            "text/plain": [
              "60679"
            ]
          },
          "metadata": {},
          "execution_count": 87
        }
      ],
      "source": [
        "bad_rows_df = logs_df.filter(logs_df['host'].isNull()| \n",
        "                             logs_df['timestamp'].isNull() | \n",
        "                             logs_df['method'].isNull() |\n",
        "                             logs_df['endpoint'].isNull() |\n",
        "                             logs_df['status'].isNull() |\n",
        "                             logs_df['protocol'].isNull())\n",
        "bad_rows_df.count()"
      ]
    },
    {
      "cell_type": "markdown",
      "metadata": {
        "id": "CIqr5XvhXvBM"
      },
      "source": [
        "Ouch! Looks like we have over 30K missing values in our data! Can we handle this?"
      ]
    },
    {
      "cell_type": "markdown",
      "metadata": {
        "id": "g8iWYrBoXvBN"
      },
      "source": [
        "Do remember, this is not a regular pandas dataframe which you can directly query and get which columns have null. Our so-called _big dataset_ is residing on disk which can potentially be present in multiple nodes in a spark cluster. So how do we find out which columns have potential nulls? \n",
        "\n",
        "### Finding Null Counts\n",
        "\n",
        "We can typically use the following technique to find out which columns have null values. \n",
        "\n",
        "(__Note:__ This approach is adapted from an [excellent answer](http://stackoverflow.com/a/33901312) on StackOverflow.)"
      ]
    },
    {
      "cell_type": "code",
      "execution_count": 88,
      "metadata": {
        "colab": {
          "base_uri": "https://localhost:8080/"
        },
        "id": "h0TWdnaPXvBP",
        "outputId": "28c3eba1-287d-48c6-ba58-0aecfe3c8a05"
      },
      "outputs": [
        {
          "output_type": "execute_result",
          "data": {
            "text/plain": [
              "['status',\n",
              " 'content_size',\n",
              " 'host',\n",
              " 'timestamp',\n",
              " 'method',\n",
              " 'endpoint',\n",
              " 'protocol']"
            ]
          },
          "metadata": {},
          "execution_count": 88
        }
      ],
      "source": [
        "logs_df.columns"
      ]
    },
    {
      "cell_type": "code",
      "execution_count": 89,
      "metadata": {
        "colab": {
          "base_uri": "https://localhost:8080/"
        },
        "id": "LtNLdagZXvBT",
        "outputId": "8d8b397b-da29-4d3b-abee-39486c8c61f5"
      },
      "outputs": [
        {
          "output_type": "stream",
          "name": "stdout",
          "text": [
            "+------+------------+----+---------+------+--------+--------+\n",
            "|status|content_size|host|timestamp|method|endpoint|protocol|\n",
            "+------+------------+----+---------+------+--------+--------+\n",
            "| 60679|       94529|   0|        0|     0|       0|       0|\n",
            "+------+------------+----+---------+------+--------+--------+\n",
            "\n"
          ]
        }
      ],
      "source": [
        "from pyspark.sql.functions import col\n",
        "from pyspark.sql.functions import sum as spark_sum\n",
        "\n",
        "def count_null(col_name):\n",
        "    return spark_sum(col(col_name).isNull().cast('integer')).alias(col_name)\n",
        "\n",
        "# Build up a list of column expressions, one per column.\n",
        "exprs = [count_null(col_name) for col_name in logs_df.columns]\n",
        "\n",
        "# Run the aggregation. The *exprs converts the list of expressions into\n",
        "# variable function arguments.\n",
        "logs_df.agg(*exprs).show()"
      ]
    },
    {
      "cell_type": "markdown",
      "metadata": {
        "id": "g5z_B22MXvBX"
      },
      "source": [
        "Well, looks like we have one missing value in the `status` column and everything else is in the `content_size` column. \n",
        "Let's see if we can figure out what's wrong!"
      ]
    },
    {
      "cell_type": "markdown",
      "metadata": {
        "id": "jGoLzGeEXvBZ"
      },
      "source": [
        "### Handling nulls in HTTP status\n",
        "\n",
        "If you had solved it correctly, our original parsing regular expression for the `status` column was:\n",
        "\n",
        "```\n",
        "regexp_extract('value', r'\\s(\\d{3})\\s', 1).cast('integer').alias('status')\n",
        "``` \n",
        "\n",
        "Could it be that there are more digits making our regular expression wrong? or is the data point itself bad? Let's try and find out!\n",
        "\n",
        "**Note**: In the expression below, `~` means \"not\"."
      ]
    },
    {
      "cell_type": "code",
      "execution_count": 90,
      "metadata": {
        "colab": {
          "base_uri": "https://localhost:8080/"
        },
        "id": "tscbB01GXvBb",
        "outputId": "0d9d9354-69db-48f9-e9a9-1b6e82604212"
      },
      "outputs": [
        {
          "output_type": "execute_result",
          "data": {
            "text/plain": [
              "60679"
            ]
          },
          "metadata": {},
          "execution_count": 90
        }
      ],
      "source": [
        "null_status_df = base_df.filter(~base_df['_c0'].rlike(r'\\s(\\d{3})\\s'))\n",
        "null_status_df.count()"
      ]
    },
    {
      "cell_type": "code",
      "execution_count": 91,
      "metadata": {
        "colab": {
          "base_uri": "https://localhost:8080/"
        },
        "id": "KMRiPoTXXvBe",
        "outputId": "4a49a5e2-a4de-4d20-f243-e97a0a3ae447"
      },
      "outputs": [
        {
          "output_type": "stream",
          "name": "stdout",
          "text": [
            "+-----------------------------------------------------------------------------------------------+\n",
            "|_c0                                                                                            |\n",
            "+-----------------------------------------------------------------------------------------------+\n",
            "|205.189.154.54 - - [01/Jul/1995:00:01:06 -0400] \"GET /cgi-bin/imagemap/countdown?99            |\n",
            "|remote27.compusmart.ab.ca - - [01/Jul/1995:00:01:53 -0400] \"GET /cgi-bin/imagemap/countdown?102|\n",
            "|onyx.southwind.net - - [01/Jul/1995:00:02:27 -0400] \"GET /cgi-bin/imagemap/countdown?103       |\n",
            "|gater3.sematech.org - - [01/Jul/1995:00:02:41 -0400] \"GET /cgi-bin/imagemap/countdown?99       |\n",
            "|onyx.southwind.net - - [01/Jul/1995:00:03:00 -0400] \"GET /cgi-bin/imagemap/countdown?102       |\n",
            "|lmsmith.tezcat.com - - [01/Jul/1995:00:03:13 -0400] \"GET /cgi-bin/imagemap/countdown?103       |\n",
            "|www-a1.proxy.aol.com - - [01/Jul/1995:00:03:20 -0400] \"GET /cgi-bin/imagemap/countdown?107     |\n",
            "|205.189.154.54 - - [01/Jul/1995:00:03:45 -0400] \"GET /cgi-bin/imagemap/countdown?108           |\n",
            "|www-a1.proxy.aol.com - - [01/Jul/1995:00:04:01 -0400] \"GET /cgi-bin/imagemap/countdown?99      |\n",
            "|gater3.sematech.org - - [01/Jul/1995:00:04:31 -0400] \"GET /cgi-bin/imagemap/countdown?370      |\n",
            "|pme607.onramp.awinc.com - - [01/Jul/1995:00:04:54 -0400] \"GET /cgi-bin/imagemap/countdown?99   |\n",
            "|ix-sd11-26.ix.netcom.com - - [01/Jul/1995:00:05:06 -0400] \"GET /cgi-bin/imagemap/countdown?107 |\n",
            "|199.166.39.14 - - [01/Jul/1995:00:05:21 -0400] \"GET /cgi-bin/imagemap/countdown?302            |\n",
            "|gater4.sematech.org - - [01/Jul/1995:00:06:26 -0400] \"GET /cgi-bin/imagemap/countdown?88       |\n",
            "|p06.eznets.canton.oh.us - - [01/Jul/1995:00:07:02 -0400] \"GET /cgi-bin/imagemap/countdown?98   |\n",
            "|teleman.pr.mcs.net - - [01/Jul/1995:00:07:35 -0400] \"GET /cgi-bin/imagemap/countdown?102       |\n",
            "|remote27.compusmart.ab.ca - - [01/Jul/1995:00:08:22 -0400] \"GET /cgi-bin/imagemap/countdown?382|\n",
            "|ix-sd11-26.ix.netcom.com - - [01/Jul/1995:00:08:32 -0400] \"GET /cgi-bin/imagemap/countdown?94  |\n",
            "|ppp4.sunrem.com - - [01/Jul/1995:00:08:45 -0400] \"GET /cgi-bin/imagemap/countdown?105          |\n",
            "|www-a1.proxy.aol.com - - [01/Jul/1995:00:08:56 -0400] \"GET /cgi-bin/imagemap/countdown?99      |\n",
            "+-----------------------------------------------------------------------------------------------+\n",
            "only showing top 20 rows\n",
            "\n"
          ]
        }
      ],
      "source": [
        "null_status_df.show(truncate=False)"
      ]
    },
    {
      "cell_type": "code",
      "execution_count": 94,
      "metadata": {
        "colab": {
          "base_uri": "https://localhost:8080/"
        },
        "id": "-ec9HtGwXvBh",
        "outputId": "539e60b2-174c-420b-91f4-92cb3ce895d5"
      },
      "outputs": [
        {
          "output_type": "stream",
          "name": "stdout",
          "text": [
            "+-------------------------+--------------------------+------+--------+--------+------+------------+\n",
            "|host                     |timestamp                 |method|endpoint|protocol|status|content_size|\n",
            "+-------------------------+--------------------------+------+--------+--------+------+------------+\n",
            "|205.189.154.54           |01/Jul/1995:00:01:06 -0400|      |        |        |null  |null        |\n",
            "|remote27.compusmart.ab.ca|01/Jul/1995:00:01:53 -0400|      |        |        |null  |null        |\n",
            "|onyx.southwind.net       |01/Jul/1995:00:02:27 -0400|      |        |        |null  |null        |\n",
            "|gater3.sematech.org      |01/Jul/1995:00:02:41 -0400|      |        |        |null  |null        |\n",
            "|onyx.southwind.net       |01/Jul/1995:00:03:00 -0400|      |        |        |null  |null        |\n",
            "|lmsmith.tezcat.com       |01/Jul/1995:00:03:13 -0400|      |        |        |null  |null        |\n",
            "|www-a1.proxy.aol.com     |01/Jul/1995:00:03:20 -0400|      |        |        |null  |null        |\n",
            "|205.189.154.54           |01/Jul/1995:00:03:45 -0400|      |        |        |null  |null        |\n",
            "|www-a1.proxy.aol.com     |01/Jul/1995:00:04:01 -0400|      |        |        |null  |null        |\n",
            "|gater3.sematech.org      |01/Jul/1995:00:04:31 -0400|      |        |        |null  |null        |\n",
            "|pme607.onramp.awinc.com  |01/Jul/1995:00:04:54 -0400|      |        |        |null  |null        |\n",
            "|ix-sd11-26.ix.netcom.com |01/Jul/1995:00:05:06 -0400|      |        |        |null  |null        |\n",
            "|199.166.39.14            |01/Jul/1995:00:05:21 -0400|      |        |        |null  |null        |\n",
            "|gater4.sematech.org      |01/Jul/1995:00:06:26 -0400|      |        |        |null  |null        |\n",
            "|p06.eznets.canton.oh.us  |01/Jul/1995:00:07:02 -0400|      |        |        |null  |null        |\n",
            "|teleman.pr.mcs.net       |01/Jul/1995:00:07:35 -0400|      |        |        |null  |null        |\n",
            "|remote27.compusmart.ab.ca|01/Jul/1995:00:08:22 -0400|      |        |        |null  |null        |\n",
            "|ix-sd11-26.ix.netcom.com |01/Jul/1995:00:08:32 -0400|      |        |        |null  |null        |\n",
            "|ppp4.sunrem.com          |01/Jul/1995:00:08:45 -0400|      |        |        |null  |null        |\n",
            "|www-a1.proxy.aol.com     |01/Jul/1995:00:08:56 -0400|      |        |        |null  |null        |\n",
            "+-------------------------+--------------------------+------+--------+--------+------+------------+\n",
            "only showing top 20 rows\n",
            "\n"
          ]
        }
      ],
      "source": [
        "bad_status_df = null_status_df.select(regexp_extract('_c0', host_pattern, 1).alias('host'),\n",
        "                                      regexp_extract('_c0', ts_pattern, 1).alias('timestamp'),\n",
        "                                      regexp_extract('_c0', method_uri_protocol_pattern, 1).alias('method'),\n",
        "                                      regexp_extract('_c0', method_uri_protocol_pattern, 2).alias('endpoint'),\n",
        "                                      regexp_extract('_c0', method_uri_protocol_pattern, 3).alias('protocol'),\n",
        "                                      regexp_extract('_c0', status_pattern, 1).cast('integer').alias('status'),\n",
        "                                      regexp_extract('_c0', content_size_pattern, 1).cast('integer').alias('content_size'))\n",
        "bad_status_df.show(truncate=False)"
      ]
    },
    {
      "cell_type": "markdown",
      "metadata": {
        "id": "wS7tZXIUXvBk"
      },
      "source": [
        "Looks like the record itself is an incomplete record with no useful information, the best option would be to drop this record as follows!"
      ]
    },
    {
      "cell_type": "code",
      "execution_count": 95,
      "metadata": {
        "colab": {
          "base_uri": "https://localhost:8080/"
        },
        "id": "zb6wxLWuXvBl",
        "outputId": "2fc05ecd-f5aa-4337-edf8-00501d6db87b"
      },
      "outputs": [
        {
          "output_type": "execute_result",
          "data": {
            "text/plain": [
              "3461613"
            ]
          },
          "metadata": {},
          "execution_count": 95
        }
      ],
      "source": [
        "logs_df.count()"
      ]
    },
    {
      "cell_type": "code",
      "execution_count": 96,
      "metadata": {
        "colab": {
          "base_uri": "https://localhost:8080/"
        },
        "id": "RQogALLJXvBo",
        "outputId": "ccfa36ea-232f-455f-c7a2-1cb100dda728"
      },
      "outputs": [
        {
          "output_type": "execute_result",
          "data": {
            "text/plain": [
              "3400934"
            ]
          },
          "metadata": {},
          "execution_count": 96
        }
      ],
      "source": [
        "logs_df = logs_df[logs_df['status'].isNotNull()]\n",
        "logs_df.count()"
      ]
    },
    {
      "cell_type": "code",
      "execution_count": 97,
      "metadata": {
        "colab": {
          "base_uri": "https://localhost:8080/"
        },
        "id": "_rHsvCeeXvBs",
        "outputId": "ff310857-03ab-4c9f-9961-da44c6b72c22"
      },
      "outputs": [
        {
          "output_type": "stream",
          "name": "stdout",
          "text": [
            "+------+------------+----+---------+------+--------+--------+\n",
            "|status|content_size|host|timestamp|method|endpoint|protocol|\n",
            "+------+------------+----+---------+------+--------+--------+\n",
            "|     0|       33854|   0|        0|     0|       0|       0|\n",
            "+------+------------+----+---------+------+--------+--------+\n",
            "\n"
          ]
        }
      ],
      "source": [
        "exprs = [count_null(col_name) for col_name in logs_df.columns]\n",
        "logs_df.agg(*exprs).show()"
      ]
    },
    {
      "cell_type": "markdown",
      "metadata": {
        "id": "8k4-PjEFXvBv"
      },
      "source": [
        "### Handling nulls in HTTP content size\n",
        "\n",
        "Again based on our previous regular expression and assuming you were able to solve it correctly, our original parsing regular expression for the `content_size` column was:\n",
        "\n",
        "```\n",
        "regexp_extract('value', r'\\s(\\d+)$', 1).cast('integer').alias('content_size')\n",
        "``` \n",
        "\n",
        "Could there be missing data in our original dataset itself? Let's try and find out!"
      ]
    },
    {
      "cell_type": "markdown",
      "metadata": {
        "id": "MMjHfm1aXvBw"
      },
      "source": [
        "### Q2: Your Turn: Find out the records in our base data frame with potential missing content sizes\n",
        "\n",
        "- Use the `r'\\s\\d+$'` regex pattern with the `rlike()` function like we demonstrated in the previous example\n",
        "- Remember to work on `base_df` since we are searching on the raw records NOT the parsed `logs_df`\n",
        "- Find the total count of the records with missing content size in `base_df` using the `count()` function"
      ]
    },
    {
      "cell_type": "code",
      "execution_count": 98,
      "metadata": {
        "colab": {
          "base_uri": "https://localhost:8080/"
        },
        "id": "ki7G6daTXvBx",
        "outputId": "929a8da3-47cd-45d2-b955-02e938e6a2c3"
      },
      "outputs": [
        {
          "output_type": "execute_result",
          "data": {
            "text/plain": [
              "94529"
            ]
          },
          "metadata": {},
          "execution_count": 98
        }
      ],
      "source": [
        "# TODO: Replace <FILL IN> with appropriate code\n",
        "\n",
        "null_content_size_df = base_df.filter(~base_df['_c0'].rlike(r'\\s\\d+$'))\n",
        "null_content_size_df.count()"
      ]
    },
    {
      "cell_type": "markdown",
      "metadata": {
        "id": "6te6fSfCXvB0"
      },
      "source": [
        "### Q3: Your Turn: Display the top ten records of your data frame having missing content sizes"
      ]
    },
    {
      "cell_type": "code",
      "execution_count": 99,
      "metadata": {
        "colab": {
          "base_uri": "https://localhost:8080/"
        },
        "id": "P1vwVWX4XvB1",
        "outputId": "a139cc8d-f577-4bed-ca31-35c45b29b230"
      },
      "outputs": [
        {
          "output_type": "execute_result",
          "data": {
            "text/plain": [
              "[Row(_c0='205.189.154.54 - - [01/Jul/1995:00:01:06 -0400] \"GET /cgi-bin/imagemap/countdown?99'),\n",
              " Row(_c0='dd15-062.compuserve.com - - [01/Jul/1995:00:01:12 -0400] \"GET /news/sci.space.shuttle/archive/sci-space-shuttle-22-apr-1995-40.txt HTTP/1.0\" 404 -'),\n",
              " Row(_c0='remote27.compusmart.ab.ca - - [01/Jul/1995:00:01:53 -0400] \"GET /cgi-bin/imagemap/countdown?102'),\n",
              " Row(_c0='dynip42.efn.org - - [01/Jul/1995:00:02:14 -0400] \"GET /software HTTP/1.0\" 302 -'),\n",
              " Row(_c0='onyx.southwind.net - - [01/Jul/1995:00:02:27 -0400] \"GET /cgi-bin/imagemap/countdown?103'),\n",
              " Row(_c0='ix-or10-06.ix.netcom.com - - [01/Jul/1995:00:02:40 -0400] \"GET /software/winvn HTTP/1.0\" 302 -'),\n",
              " Row(_c0='gater3.sematech.org - - [01/Jul/1995:00:02:41 -0400] \"GET /cgi-bin/imagemap/countdown?99'),\n",
              " Row(_c0='onyx.southwind.net - - [01/Jul/1995:00:03:00 -0400] \"GET /cgi-bin/imagemap/countdown?102'),\n",
              " Row(_c0='lmsmith.tezcat.com - - [01/Jul/1995:00:03:13 -0400] \"GET /cgi-bin/imagemap/countdown?103'),\n",
              " Row(_c0='www-a1.proxy.aol.com - - [01/Jul/1995:00:03:20 -0400] \"GET /cgi-bin/imagemap/countdown?107')]"
            ]
          },
          "metadata": {},
          "execution_count": 99
        }
      ],
      "source": [
        "# TODO: Replace <FILL IN> with appropriate code\n",
        "\n",
        "null_content_size_df.take(10)"
      ]
    },
    {
      "cell_type": "markdown",
      "metadata": {
        "id": "Rl3J6c5sXvB8"
      },
      "source": [
        "Assuming you were able to get to the missing records above, it is quite evident that the bad raw data records correspond to error responses, where no content was sent back and the server emitted a \"`-`\" for the `content_size` field. \n",
        "\n",
        "Since we don't want to discard those rows from our analysis, let's impute or fill them to 0."
      ]
    },
    {
      "cell_type": "markdown",
      "metadata": {
        "id": "2y3iD47fXvCB"
      },
      "source": [
        "### Q4: Your Turn: Fix the rows with null content\\_size\n",
        "\n",
        "The easiest solution is to replace the null values in `logs_df` with 0 like we discussed earlier. The Spark DataFrame API provides a set of functions and fields specifically designed for working with null values, among them:\n",
        "\n",
        "* [fillna()](http://spark.apache.org/docs/latest/api/python/pyspark.sql.html#pyspark.sql.DataFrame.fillna), which fills null values with specified non-null values.\n",
        "* [na](http://spark.apache.org/docs/latest/api/python/pyspark.sql.html#pyspark.sql.DataFrame.na), which returns a [DataFrameNaFunctions](http://spark.apache.org/docs/latest/api/python/pyspark.sql.html#pyspark.sql.DataFrameNaFunctions) object with many functions for operating on null columns.\n",
        "\n",
        "There are several ways to invoke this function. The easiest is just to replace _all_ null columns with known values. But, for safety, it's better to pass a Python dictionary containing (column\\_name, value) mappings. That's what we'll do. A sample example from the documentation is depicted below\n",
        "\n",
        "```\n",
        ">>> df4.na.fill({'age': 50, 'name': 'unknown'}).show()\n",
        "+---+------+-------+\n",
        "|age|height|   name|\n",
        "+---+------+-------+\n",
        "| 10|    80|  Alice|\n",
        "|  5|  null|    Bob|\n",
        "| 50|  null|    Tom|\n",
        "| 50|  null|unknown|\n",
        "+---+------+-------+\n",
        "```\n",
        "\n",
        "Now use this function and fill all the missing values in the `content_size` field with 0!"
      ]
    },
    {
      "cell_type": "code",
      "execution_count": 100,
      "metadata": {
        "collapsed": true,
        "id": "_2w5KTE0XvCC"
      },
      "outputs": [],
      "source": [
        "# TODO: Replace <FILL IN> with appropriate code\n",
        "\n",
        "logs_df = logs_df.na.fill({'content_size': 0})"
      ]
    },
    {
      "cell_type": "markdown",
      "metadata": {
        "id": "zdjkzs6UXvCJ"
      },
      "source": [
        "Now assuming you were able to fill in the missing values successfully in the previous question, we should have no missing values \\ nulls in our dataset. Let's verify this!"
      ]
    },
    {
      "cell_type": "code",
      "execution_count": 101,
      "metadata": {
        "colab": {
          "base_uri": "https://localhost:8080/"
        },
        "id": "wDaLqVZOXvCK",
        "outputId": "aac6df18-46d5-4c12-bd73-3769c25c2c9d"
      },
      "outputs": [
        {
          "output_type": "stream",
          "name": "stdout",
          "text": [
            "+------+------------+----+---------+------+--------+--------+\n",
            "|status|content_size|host|timestamp|method|endpoint|protocol|\n",
            "+------+------------+----+---------+------+--------+--------+\n",
            "|     0|           0|   0|        0|     0|       0|       0|\n",
            "+------+------------+----+---------+------+--------+--------+\n",
            "\n"
          ]
        }
      ],
      "source": [
        "exprs = [count_null(col_name) for col_name in logs_df.columns]\n",
        "logs_df.agg(*exprs).show()"
      ]
    },
    {
      "cell_type": "markdown",
      "metadata": {
        "id": "Bjr1f1m2XvCN"
      },
      "source": [
        "Look at that, no missing values!"
      ]
    },
    {
      "cell_type": "markdown",
      "metadata": {
        "id": "UFtYMGZhXvCN"
      },
      "source": [
        "## Handling Temporal Fields (Timestamp)\n",
        "\n",
        "Now that we have a clean, parsed DataFrame, we have to parse the timestamp field into an actual timestamp. The Common Log Format time is somewhat non-standard. A User-Defined Function (UDF) is the most straightforward way to parse it."
      ]
    },
    {
      "cell_type": "code",
      "execution_count": 102,
      "metadata": {
        "id": "k5t5VysnXvCS"
      },
      "outputs": [],
      "source": [
        "from pyspark.sql.functions import udf\n",
        "\n",
        "month_map = {\n",
        "  'Jan': 1, 'Feb': 2, 'Mar':3, 'Apr':4, 'May':5, 'Jun':6, 'Jul':7,\n",
        "  'Aug':8,  'Sep': 9, 'Oct':10, 'Nov': 11, 'Dec': 12\n",
        "}\n",
        "\n",
        "def parse_clf_time(text):\n",
        "    \"\"\" Convert Common Log time format into a Python datetime object\n",
        "    Args:\n",
        "        text (str): date and time in Apache time format [dd/mmm/yyyy:hh:mm:ss (+/-)zzzz]\n",
        "    Returns:\n",
        "        a string suitable for passing to CAST('timestamp')\n",
        "    \"\"\"\n",
        "    # NOTE: We're ignoring time zone here. In a production application, you'd want to handle that.\n",
        "    return \"{0:04d}-{1:02d}-{2:02d} {3:02d}:{4:02d}:{5:02d}\".format(\n",
        "      int(text[7:11]),\n",
        "      month_map[text[3:6]],\n",
        "      int(text[0:2]),\n",
        "      int(text[12:14]),\n",
        "      int(text[15:17]),\n",
        "      int(text[18:20])\n",
        "    )"
      ]
    },
    {
      "cell_type": "code",
      "execution_count": 103,
      "metadata": {
        "colab": {
          "base_uri": "https://localhost:8080/"
        },
        "id": "RLJHPXHwXvCW",
        "outputId": "daef22be-3737-4646-a4eb-2f7728713578"
      },
      "outputs": [
        {
          "output_type": "execute_result",
          "data": {
            "text/plain": [
              "['01/Jul/1995:00:00:01 -0400',\n",
              " '01/Jul/1995:00:00:06 -0400',\n",
              " '01/Jul/1995:00:00:09 -0400',\n",
              " '01/Jul/1995:00:00:11 -0400',\n",
              " '01/Jul/1995:00:00:11 -0400']"
            ]
          },
          "metadata": {},
          "execution_count": 103
        }
      ],
      "source": [
        "sample_ts = [item['timestamp'] for item in logs_df.select('timestamp').take(5)]\n",
        "sample_ts"
      ]
    },
    {
      "cell_type": "code",
      "execution_count": 104,
      "metadata": {
        "colab": {
          "base_uri": "https://localhost:8080/"
        },
        "id": "0K5Yd1Z2XvCY",
        "outputId": "83c054b9-b319-484f-dcfd-3e37b4b9023f"
      },
      "outputs": [
        {
          "output_type": "execute_result",
          "data": {
            "text/plain": [
              "['1995-07-01 00:00:01',\n",
              " '1995-07-01 00:00:06',\n",
              " '1995-07-01 00:00:09',\n",
              " '1995-07-01 00:00:11',\n",
              " '1995-07-01 00:00:11']"
            ]
          },
          "metadata": {},
          "execution_count": 104
        }
      ],
      "source": [
        "[parse_clf_time(item) for item in sample_ts]"
      ]
    },
    {
      "cell_type": "code",
      "execution_count": 105,
      "metadata": {
        "colab": {
          "base_uri": "https://localhost:8080/"
        },
        "id": "WBbQ_QNsXvCb",
        "outputId": "881aebd4-c6b3-4fb1-a098-80a816dc5ee6"
      },
      "outputs": [
        {
          "output_type": "stream",
          "name": "stdout",
          "text": [
            "+------+------------+--------------------+------+--------------------+--------+-------------------+\n",
            "|status|content_size|                host|method|            endpoint|protocol|               time|\n",
            "+------+------------+--------------------+------+--------------------+--------+-------------------+\n",
            "|   200|        6245|        199.72.81.55|   GET|    /history/apollo/|HTTP/1.0|1995-07-01 00:00:01|\n",
            "|   200|        3985|unicomp6.unicomp.net|   GET| /shuttle/countdown/|HTTP/1.0|1995-07-01 00:00:06|\n",
            "|   200|        4085|      199.120.110.21|   GET|/shuttle/missions...|HTTP/1.0|1995-07-01 00:00:09|\n",
            "|   304|           0|  burger.letters.com|   GET|/shuttle/countdow...|HTTP/1.0|1995-07-01 00:00:11|\n",
            "|   200|        4179|      199.120.110.21|   GET|/shuttle/missions...|HTTP/1.0|1995-07-01 00:00:11|\n",
            "|   304|           0|  burger.letters.com|   GET|/images/NASA-logo...|HTTP/1.0|1995-07-01 00:00:12|\n",
            "|   200|           0|  burger.letters.com|   GET|/shuttle/countdow...|HTTP/1.0|1995-07-01 00:00:12|\n",
            "|   200|        3985|     205.212.115.106|   GET|/shuttle/countdow...|HTTP/1.0|1995-07-01 00:00:12|\n",
            "|   200|        3985|         d104.aa.net|   GET| /shuttle/countdown/|HTTP/1.0|1995-07-01 00:00:13|\n",
            "|   200|        7074|      129.94.144.152|   GET|                   /|HTTP/1.0|1995-07-01 00:00:13|\n",
            "+------+------------+--------------------+------+--------------------+--------+-------------------+\n",
            "only showing top 10 rows\n",
            "\n"
          ]
        }
      ],
      "source": [
        "udf_parse_time = udf(parse_clf_time)\n",
        "\n",
        "logs_df = logs_df.select('*', udf_parse_time(logs_df['timestamp']).cast('timestamp').alias('time')).drop('timestamp')\n",
        "logs_df.show(10, truncate=True)"
      ]
    },
    {
      "cell_type": "code",
      "execution_count": 106,
      "metadata": {
        "colab": {
          "base_uri": "https://localhost:8080/"
        },
        "id": "9Yy-eIDtXvCi",
        "outputId": "00ea1b43-c255-4281-d988-e9b890756400"
      },
      "outputs": [
        {
          "output_type": "stream",
          "name": "stdout",
          "text": [
            "root\n",
            " |-- status: integer (nullable = true)\n",
            " |-- content_size: integer (nullable = false)\n",
            " |-- host: string (nullable = true)\n",
            " |-- method: string (nullable = true)\n",
            " |-- endpoint: string (nullable = true)\n",
            " |-- protocol: string (nullable = true)\n",
            " |-- time: timestamp (nullable = true)\n",
            "\n"
          ]
        }
      ],
      "source": [
        "logs_df.printSchema()"
      ]
    },
    {
      "cell_type": "code",
      "execution_count": 107,
      "metadata": {
        "colab": {
          "base_uri": "https://localhost:8080/",
          "height": 206
        },
        "id": "wfMB_2JvXvCk",
        "outputId": "329ee7dd-67c6-4519-caed-f22d53f898f9"
      },
      "outputs": [
        {
          "output_type": "execute_result",
          "data": {
            "text/html": [
              "\n",
              "  <div id=\"df-1d34cf59-aa09-46ac-b186-479f29835e60\">\n",
              "    <div class=\"colab-df-container\">\n",
              "      <div>\n",
              "<style scoped>\n",
              "    .dataframe tbody tr th:only-of-type {\n",
              "        vertical-align: middle;\n",
              "    }\n",
              "\n",
              "    .dataframe tbody tr th {\n",
              "        vertical-align: top;\n",
              "    }\n",
              "\n",
              "    .dataframe thead th {\n",
              "        text-align: right;\n",
              "    }\n",
              "</style>\n",
              "<table border=\"1\" class=\"dataframe\">\n",
              "  <thead>\n",
              "    <tr style=\"text-align: right;\">\n",
              "      <th></th>\n",
              "      <th>status</th>\n",
              "      <th>content_size</th>\n",
              "      <th>host</th>\n",
              "      <th>method</th>\n",
              "      <th>endpoint</th>\n",
              "      <th>protocol</th>\n",
              "      <th>time</th>\n",
              "    </tr>\n",
              "  </thead>\n",
              "  <tbody>\n",
              "    <tr>\n",
              "      <th>0</th>\n",
              "      <td>200</td>\n",
              "      <td>6245</td>\n",
              "      <td>199.72.81.55</td>\n",
              "      <td>GET</td>\n",
              "      <td>/history/apollo/</td>\n",
              "      <td>HTTP/1.0</td>\n",
              "      <td>1995-07-01 00:00:01</td>\n",
              "    </tr>\n",
              "    <tr>\n",
              "      <th>1</th>\n",
              "      <td>200</td>\n",
              "      <td>3985</td>\n",
              "      <td>unicomp6.unicomp.net</td>\n",
              "      <td>GET</td>\n",
              "      <td>/shuttle/countdown/</td>\n",
              "      <td>HTTP/1.0</td>\n",
              "      <td>1995-07-01 00:00:06</td>\n",
              "    </tr>\n",
              "    <tr>\n",
              "      <th>2</th>\n",
              "      <td>200</td>\n",
              "      <td>4085</td>\n",
              "      <td>199.120.110.21</td>\n",
              "      <td>GET</td>\n",
              "      <td>/shuttle/missions/sts-73/mission-sts-73.html</td>\n",
              "      <td>HTTP/1.0</td>\n",
              "      <td>1995-07-01 00:00:09</td>\n",
              "    </tr>\n",
              "    <tr>\n",
              "      <th>3</th>\n",
              "      <td>304</td>\n",
              "      <td>0</td>\n",
              "      <td>burger.letters.com</td>\n",
              "      <td>GET</td>\n",
              "      <td>/shuttle/countdown/liftoff.html</td>\n",
              "      <td>HTTP/1.0</td>\n",
              "      <td>1995-07-01 00:00:11</td>\n",
              "    </tr>\n",
              "    <tr>\n",
              "      <th>4</th>\n",
              "      <td>200</td>\n",
              "      <td>4179</td>\n",
              "      <td>199.120.110.21</td>\n",
              "      <td>GET</td>\n",
              "      <td>/shuttle/missions/sts-73/sts-73-patch-small.gif</td>\n",
              "      <td>HTTP/1.0</td>\n",
              "      <td>1995-07-01 00:00:11</td>\n",
              "    </tr>\n",
              "  </tbody>\n",
              "</table>\n",
              "</div>\n",
              "      <button class=\"colab-df-convert\" onclick=\"convertToInteractive('df-1d34cf59-aa09-46ac-b186-479f29835e60')\"\n",
              "              title=\"Convert this dataframe to an interactive table.\"\n",
              "              style=\"display:none;\">\n",
              "        \n",
              "  <svg xmlns=\"http://www.w3.org/2000/svg\" height=\"24px\"viewBox=\"0 0 24 24\"\n",
              "       width=\"24px\">\n",
              "    <path d=\"M0 0h24v24H0V0z\" fill=\"none\"/>\n",
              "    <path d=\"M18.56 5.44l.94 2.06.94-2.06 2.06-.94-2.06-.94-.94-2.06-.94 2.06-2.06.94zm-11 1L8.5 8.5l.94-2.06 2.06-.94-2.06-.94L8.5 2.5l-.94 2.06-2.06.94zm10 10l.94 2.06.94-2.06 2.06-.94-2.06-.94-.94-2.06-.94 2.06-2.06.94z\"/><path d=\"M17.41 7.96l-1.37-1.37c-.4-.4-.92-.59-1.43-.59-.52 0-1.04.2-1.43.59L10.3 9.45l-7.72 7.72c-.78.78-.78 2.05 0 2.83L4 21.41c.39.39.9.59 1.41.59.51 0 1.02-.2 1.41-.59l7.78-7.78 2.81-2.81c.8-.78.8-2.07 0-2.86zM5.41 20L4 18.59l7.72-7.72 1.47 1.35L5.41 20z\"/>\n",
              "  </svg>\n",
              "      </button>\n",
              "      \n",
              "  <style>\n",
              "    .colab-df-container {\n",
              "      display:flex;\n",
              "      flex-wrap:wrap;\n",
              "      gap: 12px;\n",
              "    }\n",
              "\n",
              "    .colab-df-convert {\n",
              "      background-color: #E8F0FE;\n",
              "      border: none;\n",
              "      border-radius: 50%;\n",
              "      cursor: pointer;\n",
              "      display: none;\n",
              "      fill: #1967D2;\n",
              "      height: 32px;\n",
              "      padding: 0 0 0 0;\n",
              "      width: 32px;\n",
              "    }\n",
              "\n",
              "    .colab-df-convert:hover {\n",
              "      background-color: #E2EBFA;\n",
              "      box-shadow: 0px 1px 2px rgba(60, 64, 67, 0.3), 0px 1px 3px 1px rgba(60, 64, 67, 0.15);\n",
              "      fill: #174EA6;\n",
              "    }\n",
              "\n",
              "    [theme=dark] .colab-df-convert {\n",
              "      background-color: #3B4455;\n",
              "      fill: #D2E3FC;\n",
              "    }\n",
              "\n",
              "    [theme=dark] .colab-df-convert:hover {\n",
              "      background-color: #434B5C;\n",
              "      box-shadow: 0px 1px 3px 1px rgba(0, 0, 0, 0.15);\n",
              "      filter: drop-shadow(0px 1px 2px rgba(0, 0, 0, 0.3));\n",
              "      fill: #FFFFFF;\n",
              "    }\n",
              "  </style>\n",
              "\n",
              "      <script>\n",
              "        const buttonEl =\n",
              "          document.querySelector('#df-1d34cf59-aa09-46ac-b186-479f29835e60 button.colab-df-convert');\n",
              "        buttonEl.style.display =\n",
              "          google.colab.kernel.accessAllowed ? 'block' : 'none';\n",
              "\n",
              "        async function convertToInteractive(key) {\n",
              "          const element = document.querySelector('#df-1d34cf59-aa09-46ac-b186-479f29835e60');\n",
              "          const dataTable =\n",
              "            await google.colab.kernel.invokeFunction('convertToInteractive',\n",
              "                                                     [key], {});\n",
              "          if (!dataTable) return;\n",
              "\n",
              "          const docLinkHtml = 'Like what you see? Visit the ' +\n",
              "            '<a target=\"_blank\" href=https://colab.research.google.com/notebooks/data_table.ipynb>data table notebook</a>'\n",
              "            + ' to learn more about interactive tables.';\n",
              "          element.innerHTML = '';\n",
              "          dataTable['output_type'] = 'display_data';\n",
              "          await google.colab.output.renderOutput(dataTable, element);\n",
              "          const docLink = document.createElement('div');\n",
              "          docLink.innerHTML = docLinkHtml;\n",
              "          element.appendChild(docLink);\n",
              "        }\n",
              "      </script>\n",
              "    </div>\n",
              "  </div>\n",
              "  "
            ],
            "text/plain": [
              "   status  content_size  ...  protocol                time\n",
              "0     200          6245  ...  HTTP/1.0 1995-07-01 00:00:01\n",
              "1     200          3985  ...  HTTP/1.0 1995-07-01 00:00:06\n",
              "2     200          4085  ...  HTTP/1.0 1995-07-01 00:00:09\n",
              "3     304             0  ...  HTTP/1.0 1995-07-01 00:00:11\n",
              "4     200          4179  ...  HTTP/1.0 1995-07-01 00:00:11\n",
              "\n",
              "[5 rows x 7 columns]"
            ]
          },
          "metadata": {},
          "execution_count": 107
        }
      ],
      "source": [
        "logs_df.limit(5).toPandas()"
      ]
    },
    {
      "cell_type": "markdown",
      "metadata": {
        "id": "cn3ghlDsXvCp"
      },
      "source": [
        "Let's now cache `logs_df` since we will be using it extensively for our data analysis section in the next part!"
      ]
    },
    {
      "cell_type": "markdown",
      "metadata": {
        "id": "1WTHkvANXvCq"
      },
      "source": [
        "# Step 2 - Exploratory Data Analysis on our Web Logs\n",
        "\n",
        "Now that we have a DataFrame containing the parsed log file as a data frame, we can perform some interesting exploratory data analysis (EDA)\n",
        "\n",
        "## Example: Content Size Statistics\n",
        "\n",
        "Let's compute some statistics about the sizes of content being returned by the web server. In particular, we'd like to know what are the average, minimum, and maximum content sizes.\n",
        "\n",
        "We can compute the statistics by calling `.describe()` on the `content_size` column of `logs_df`.  The `.describe()` function returns the count, mean, stddev, min, and max of a given column."
      ]
    },
    {
      "cell_type": "code",
      "execution_count": 108,
      "metadata": {
        "colab": {
          "base_uri": "https://localhost:8080/",
          "height": 206
        },
        "id": "FHkVy3ZXXvCr",
        "outputId": "53ef29c8-38de-4602-e721-d93936194aae"
      },
      "outputs": [
        {
          "output_type": "execute_result",
          "data": {
            "text/html": [
              "\n",
              "  <div id=\"df-a4b9d0e5-c1d6-43c0-be07-9287a46cfe91\">\n",
              "    <div class=\"colab-df-container\">\n",
              "      <div>\n",
              "<style scoped>\n",
              "    .dataframe tbody tr th:only-of-type {\n",
              "        vertical-align: middle;\n",
              "    }\n",
              "\n",
              "    .dataframe tbody tr th {\n",
              "        vertical-align: top;\n",
              "    }\n",
              "\n",
              "    .dataframe thead th {\n",
              "        text-align: right;\n",
              "    }\n",
              "</style>\n",
              "<table border=\"1\" class=\"dataframe\">\n",
              "  <thead>\n",
              "    <tr style=\"text-align: right;\">\n",
              "      <th></th>\n",
              "      <th>summary</th>\n",
              "      <th>content_size</th>\n",
              "    </tr>\n",
              "  </thead>\n",
              "  <tbody>\n",
              "    <tr>\n",
              "      <th>0</th>\n",
              "      <td>count</td>\n",
              "      <td>3400934</td>\n",
              "    </tr>\n",
              "    <tr>\n",
              "      <th>1</th>\n",
              "      <td>mean</td>\n",
              "      <td>19264.324803127613</td>\n",
              "    </tr>\n",
              "    <tr>\n",
              "      <th>2</th>\n",
              "      <td>stddev</td>\n",
              "      <td>73636.08212719629</td>\n",
              "    </tr>\n",
              "    <tr>\n",
              "      <th>3</th>\n",
              "      <td>min</td>\n",
              "      <td>0</td>\n",
              "    </tr>\n",
              "    <tr>\n",
              "      <th>4</th>\n",
              "      <td>max</td>\n",
              "      <td>6823936</td>\n",
              "    </tr>\n",
              "  </tbody>\n",
              "</table>\n",
              "</div>\n",
              "      <button class=\"colab-df-convert\" onclick=\"convertToInteractive('df-a4b9d0e5-c1d6-43c0-be07-9287a46cfe91')\"\n",
              "              title=\"Convert this dataframe to an interactive table.\"\n",
              "              style=\"display:none;\">\n",
              "        \n",
              "  <svg xmlns=\"http://www.w3.org/2000/svg\" height=\"24px\"viewBox=\"0 0 24 24\"\n",
              "       width=\"24px\">\n",
              "    <path d=\"M0 0h24v24H0V0z\" fill=\"none\"/>\n",
              "    <path d=\"M18.56 5.44l.94 2.06.94-2.06 2.06-.94-2.06-.94-.94-2.06-.94 2.06-2.06.94zm-11 1L8.5 8.5l.94-2.06 2.06-.94-2.06-.94L8.5 2.5l-.94 2.06-2.06.94zm10 10l.94 2.06.94-2.06 2.06-.94-2.06-.94-.94-2.06-.94 2.06-2.06.94z\"/><path d=\"M17.41 7.96l-1.37-1.37c-.4-.4-.92-.59-1.43-.59-.52 0-1.04.2-1.43.59L10.3 9.45l-7.72 7.72c-.78.78-.78 2.05 0 2.83L4 21.41c.39.39.9.59 1.41.59.51 0 1.02-.2 1.41-.59l7.78-7.78 2.81-2.81c.8-.78.8-2.07 0-2.86zM5.41 20L4 18.59l7.72-7.72 1.47 1.35L5.41 20z\"/>\n",
              "  </svg>\n",
              "      </button>\n",
              "      \n",
              "  <style>\n",
              "    .colab-df-container {\n",
              "      display:flex;\n",
              "      flex-wrap:wrap;\n",
              "      gap: 12px;\n",
              "    }\n",
              "\n",
              "    .colab-df-convert {\n",
              "      background-color: #E8F0FE;\n",
              "      border: none;\n",
              "      border-radius: 50%;\n",
              "      cursor: pointer;\n",
              "      display: none;\n",
              "      fill: #1967D2;\n",
              "      height: 32px;\n",
              "      padding: 0 0 0 0;\n",
              "      width: 32px;\n",
              "    }\n",
              "\n",
              "    .colab-df-convert:hover {\n",
              "      background-color: #E2EBFA;\n",
              "      box-shadow: 0px 1px 2px rgba(60, 64, 67, 0.3), 0px 1px 3px 1px rgba(60, 64, 67, 0.15);\n",
              "      fill: #174EA6;\n",
              "    }\n",
              "\n",
              "    [theme=dark] .colab-df-convert {\n",
              "      background-color: #3B4455;\n",
              "      fill: #D2E3FC;\n",
              "    }\n",
              "\n",
              "    [theme=dark] .colab-df-convert:hover {\n",
              "      background-color: #434B5C;\n",
              "      box-shadow: 0px 1px 3px 1px rgba(0, 0, 0, 0.15);\n",
              "      filter: drop-shadow(0px 1px 2px rgba(0, 0, 0, 0.3));\n",
              "      fill: #FFFFFF;\n",
              "    }\n",
              "  </style>\n",
              "\n",
              "      <script>\n",
              "        const buttonEl =\n",
              "          document.querySelector('#df-a4b9d0e5-c1d6-43c0-be07-9287a46cfe91 button.colab-df-convert');\n",
              "        buttonEl.style.display =\n",
              "          google.colab.kernel.accessAllowed ? 'block' : 'none';\n",
              "\n",
              "        async function convertToInteractive(key) {\n",
              "          const element = document.querySelector('#df-a4b9d0e5-c1d6-43c0-be07-9287a46cfe91');\n",
              "          const dataTable =\n",
              "            await google.colab.kernel.invokeFunction('convertToInteractive',\n",
              "                                                     [key], {});\n",
              "          if (!dataTable) return;\n",
              "\n",
              "          const docLinkHtml = 'Like what you see? Visit the ' +\n",
              "            '<a target=\"_blank\" href=https://colab.research.google.com/notebooks/data_table.ipynb>data table notebook</a>'\n",
              "            + ' to learn more about interactive tables.';\n",
              "          element.innerHTML = '';\n",
              "          dataTable['output_type'] = 'display_data';\n",
              "          await google.colab.output.renderOutput(dataTable, element);\n",
              "          const docLink = document.createElement('div');\n",
              "          docLink.innerHTML = docLinkHtml;\n",
              "          element.appendChild(docLink);\n",
              "        }\n",
              "      </script>\n",
              "    </div>\n",
              "  </div>\n",
              "  "
            ],
            "text/plain": [
              "  summary        content_size\n",
              "0   count             3400934\n",
              "1    mean  19264.324803127613\n",
              "2  stddev   73636.08212719629\n",
              "3     min                   0\n",
              "4     max             6823936"
            ]
          },
          "metadata": {},
          "execution_count": 108
        }
      ],
      "source": [
        "content_size_summary_df = logs_df.describe(['content_size'])\n",
        "content_size_summary_df.toPandas()"
      ]
    },
    {
      "cell_type": "markdown",
      "metadata": {
        "id": "fY1S9FPAXvCv"
      },
      "source": [
        "Alternatively, we can use SQL to directly calculate these statistics.  You can explore many useful functions within the `pyspark.sql.functions` module in the [documentation](https://spark.apache.org/docs/latest/api/python/pyspark.sql.html#module-pyspark.sql.functions).\n",
        "\n",
        "After we apply the `.agg()` function, we call `toPandas()` to extract and convert the result into a `pandas` dataframe which has better formatting on Jupyter notebooks"
      ]
    },
    {
      "cell_type": "code",
      "execution_count": 109,
      "metadata": {
        "colab": {
          "base_uri": "https://localhost:8080/",
          "height": 81
        },
        "id": "nonAax8AXvCx",
        "outputId": "36288860-c47a-43a6-c317-79e6b0a3d0a4"
      },
      "outputs": [
        {
          "output_type": "execute_result",
          "data": {
            "text/html": [
              "\n",
              "  <div id=\"df-f95f51e4-23e7-40c0-b695-d6f4ca2ff83d\">\n",
              "    <div class=\"colab-df-container\">\n",
              "      <div>\n",
              "<style scoped>\n",
              "    .dataframe tbody tr th:only-of-type {\n",
              "        vertical-align: middle;\n",
              "    }\n",
              "\n",
              "    .dataframe tbody tr th {\n",
              "        vertical-align: top;\n",
              "    }\n",
              "\n",
              "    .dataframe thead th {\n",
              "        text-align: right;\n",
              "    }\n",
              "</style>\n",
              "<table border=\"1\" class=\"dataframe\">\n",
              "  <thead>\n",
              "    <tr style=\"text-align: right;\">\n",
              "      <th></th>\n",
              "      <th>min_content_size</th>\n",
              "      <th>max_content_size</th>\n",
              "      <th>mean_content_size</th>\n",
              "      <th>std_content_size</th>\n",
              "      <th>count_content_size</th>\n",
              "    </tr>\n",
              "  </thead>\n",
              "  <tbody>\n",
              "    <tr>\n",
              "      <th>0</th>\n",
              "      <td>0</td>\n",
              "      <td>6823936</td>\n",
              "      <td>19264.324803</td>\n",
              "      <td>73636.082127</td>\n",
              "      <td>3400934</td>\n",
              "    </tr>\n",
              "  </tbody>\n",
              "</table>\n",
              "</div>\n",
              "      <button class=\"colab-df-convert\" onclick=\"convertToInteractive('df-f95f51e4-23e7-40c0-b695-d6f4ca2ff83d')\"\n",
              "              title=\"Convert this dataframe to an interactive table.\"\n",
              "              style=\"display:none;\">\n",
              "        \n",
              "  <svg xmlns=\"http://www.w3.org/2000/svg\" height=\"24px\"viewBox=\"0 0 24 24\"\n",
              "       width=\"24px\">\n",
              "    <path d=\"M0 0h24v24H0V0z\" fill=\"none\"/>\n",
              "    <path d=\"M18.56 5.44l.94 2.06.94-2.06 2.06-.94-2.06-.94-.94-2.06-.94 2.06-2.06.94zm-11 1L8.5 8.5l.94-2.06 2.06-.94-2.06-.94L8.5 2.5l-.94 2.06-2.06.94zm10 10l.94 2.06.94-2.06 2.06-.94-2.06-.94-.94-2.06-.94 2.06-2.06.94z\"/><path d=\"M17.41 7.96l-1.37-1.37c-.4-.4-.92-.59-1.43-.59-.52 0-1.04.2-1.43.59L10.3 9.45l-7.72 7.72c-.78.78-.78 2.05 0 2.83L4 21.41c.39.39.9.59 1.41.59.51 0 1.02-.2 1.41-.59l7.78-7.78 2.81-2.81c.8-.78.8-2.07 0-2.86zM5.41 20L4 18.59l7.72-7.72 1.47 1.35L5.41 20z\"/>\n",
              "  </svg>\n",
              "      </button>\n",
              "      \n",
              "  <style>\n",
              "    .colab-df-container {\n",
              "      display:flex;\n",
              "      flex-wrap:wrap;\n",
              "      gap: 12px;\n",
              "    }\n",
              "\n",
              "    .colab-df-convert {\n",
              "      background-color: #E8F0FE;\n",
              "      border: none;\n",
              "      border-radius: 50%;\n",
              "      cursor: pointer;\n",
              "      display: none;\n",
              "      fill: #1967D2;\n",
              "      height: 32px;\n",
              "      padding: 0 0 0 0;\n",
              "      width: 32px;\n",
              "    }\n",
              "\n",
              "    .colab-df-convert:hover {\n",
              "      background-color: #E2EBFA;\n",
              "      box-shadow: 0px 1px 2px rgba(60, 64, 67, 0.3), 0px 1px 3px 1px rgba(60, 64, 67, 0.15);\n",
              "      fill: #174EA6;\n",
              "    }\n",
              "\n",
              "    [theme=dark] .colab-df-convert {\n",
              "      background-color: #3B4455;\n",
              "      fill: #D2E3FC;\n",
              "    }\n",
              "\n",
              "    [theme=dark] .colab-df-convert:hover {\n",
              "      background-color: #434B5C;\n",
              "      box-shadow: 0px 1px 3px 1px rgba(0, 0, 0, 0.15);\n",
              "      filter: drop-shadow(0px 1px 2px rgba(0, 0, 0, 0.3));\n",
              "      fill: #FFFFFF;\n",
              "    }\n",
              "  </style>\n",
              "\n",
              "      <script>\n",
              "        const buttonEl =\n",
              "          document.querySelector('#df-f95f51e4-23e7-40c0-b695-d6f4ca2ff83d button.colab-df-convert');\n",
              "        buttonEl.style.display =\n",
              "          google.colab.kernel.accessAllowed ? 'block' : 'none';\n",
              "\n",
              "        async function convertToInteractive(key) {\n",
              "          const element = document.querySelector('#df-f95f51e4-23e7-40c0-b695-d6f4ca2ff83d');\n",
              "          const dataTable =\n",
              "            await google.colab.kernel.invokeFunction('convertToInteractive',\n",
              "                                                     [key], {});\n",
              "          if (!dataTable) return;\n",
              "\n",
              "          const docLinkHtml = 'Like what you see? Visit the ' +\n",
              "            '<a target=\"_blank\" href=https://colab.research.google.com/notebooks/data_table.ipynb>data table notebook</a>'\n",
              "            + ' to learn more about interactive tables.';\n",
              "          element.innerHTML = '';\n",
              "          dataTable['output_type'] = 'display_data';\n",
              "          await google.colab.output.renderOutput(dataTable, element);\n",
              "          const docLink = document.createElement('div');\n",
              "          docLink.innerHTML = docLinkHtml;\n",
              "          element.appendChild(docLink);\n",
              "        }\n",
              "      </script>\n",
              "    </div>\n",
              "  </div>\n",
              "  "
            ],
            "text/plain": [
              "   min_content_size  max_content_size  ...  std_content_size  count_content_size\n",
              "0                 0           6823936  ...      73636.082127             3400934\n",
              "\n",
              "[1 rows x 5 columns]"
            ]
          },
          "metadata": {},
          "execution_count": 109
        }
      ],
      "source": [
        "from pyspark.sql import functions as F\n",
        "\n",
        "(logs_df.agg(F.min(logs_df['content_size']).alias('min_content_size'),\n",
        "             F.max(logs_df['content_size']).alias('max_content_size'),\n",
        "             F.mean(logs_df['content_size']).alias('mean_content_size'),\n",
        "             F.stddev(logs_df['content_size']).alias('std_content_size'),\n",
        "             F.count(logs_df['content_size']).alias('count_content_size'))\n",
        "        .toPandas())"
      ]
    },
    {
      "cell_type": "markdown",
      "metadata": {
        "id": "8hat3HPwXvC0"
      },
      "source": [
        "## Example: HTTP Status Code Analysis\n",
        "\n",
        "Next, let's look at the status code values that appear in the log. We want to know which status code values appear in the data and how many times.  \n",
        "\n",
        "We again start with `logs_df`, then group by the `status` column, apply the `.count()` aggregation function, and sort by the `status` column."
      ]
    },
    {
      "cell_type": "code",
      "execution_count": 110,
      "metadata": {
        "collapsed": true,
        "id": "jL-vEt0FXvC1"
      },
      "outputs": [],
      "source": [
        "status_freq_df = (logs_df\n",
        "                     .groupBy('status')\n",
        "                     .count()\n",
        "                     .sort('status')\n",
        "                     .cache())"
      ]
    },
    {
      "cell_type": "code",
      "execution_count": 111,
      "metadata": {
        "colab": {
          "base_uri": "https://localhost:8080/"
        },
        "id": "a0iPsCW2XvC3",
        "outputId": "66058a43-3fc4-48d5-928c-27ac09c81f43"
      },
      "outputs": [
        {
          "output_type": "stream",
          "name": "stdout",
          "text": [
            "Total distinct HTTP Status Codes: 8\n"
          ]
        }
      ],
      "source": [
        "print('Total distinct HTTP Status Codes:', status_freq_df.count())"
      ]
    },
    {
      "cell_type": "code",
      "execution_count": 112,
      "metadata": {
        "colab": {
          "base_uri": "https://localhost:8080/",
          "height": 300
        },
        "id": "SZO7ncjdXvC6",
        "outputId": "9204ef25-f1a4-4fed-ee71-2de3176aa0cd"
      },
      "outputs": [
        {
          "output_type": "execute_result",
          "data": {
            "text/html": [
              "\n",
              "  <div id=\"df-3c825fae-7395-4762-9438-c1f7c2a43e02\">\n",
              "    <div class=\"colab-df-container\">\n",
              "      <div>\n",
              "<style scoped>\n",
              "    .dataframe tbody tr th:only-of-type {\n",
              "        vertical-align: middle;\n",
              "    }\n",
              "\n",
              "    .dataframe tbody tr th {\n",
              "        vertical-align: top;\n",
              "    }\n",
              "\n",
              "    .dataframe thead th {\n",
              "        text-align: right;\n",
              "    }\n",
              "</style>\n",
              "<table border=\"1\" class=\"dataframe\">\n",
              "  <thead>\n",
              "    <tr style=\"text-align: right;\">\n",
              "      <th></th>\n",
              "      <th>status</th>\n",
              "      <th>count</th>\n",
              "    </tr>\n",
              "  </thead>\n",
              "  <tbody>\n",
              "    <tr>\n",
              "      <th>0</th>\n",
              "      <td>200</td>\n",
              "      <td>3100405</td>\n",
              "    </tr>\n",
              "    <tr>\n",
              "      <th>1</th>\n",
              "      <td>302</td>\n",
              "      <td>12562</td>\n",
              "    </tr>\n",
              "    <tr>\n",
              "      <th>2</th>\n",
              "      <td>304</td>\n",
              "      <td>266773</td>\n",
              "    </tr>\n",
              "    <tr>\n",
              "      <th>3</th>\n",
              "      <td>400</td>\n",
              "      <td>15</td>\n",
              "    </tr>\n",
              "    <tr>\n",
              "      <th>4</th>\n",
              "      <td>403</td>\n",
              "      <td>225</td>\n",
              "    </tr>\n",
              "    <tr>\n",
              "      <th>5</th>\n",
              "      <td>404</td>\n",
              "      <td>20848</td>\n",
              "    </tr>\n",
              "    <tr>\n",
              "      <th>6</th>\n",
              "      <td>500</td>\n",
              "      <td>65</td>\n",
              "    </tr>\n",
              "    <tr>\n",
              "      <th>7</th>\n",
              "      <td>501</td>\n",
              "      <td>41</td>\n",
              "    </tr>\n",
              "  </tbody>\n",
              "</table>\n",
              "</div>\n",
              "      <button class=\"colab-df-convert\" onclick=\"convertToInteractive('df-3c825fae-7395-4762-9438-c1f7c2a43e02')\"\n",
              "              title=\"Convert this dataframe to an interactive table.\"\n",
              "              style=\"display:none;\">\n",
              "        \n",
              "  <svg xmlns=\"http://www.w3.org/2000/svg\" height=\"24px\"viewBox=\"0 0 24 24\"\n",
              "       width=\"24px\">\n",
              "    <path d=\"M0 0h24v24H0V0z\" fill=\"none\"/>\n",
              "    <path d=\"M18.56 5.44l.94 2.06.94-2.06 2.06-.94-2.06-.94-.94-2.06-.94 2.06-2.06.94zm-11 1L8.5 8.5l.94-2.06 2.06-.94-2.06-.94L8.5 2.5l-.94 2.06-2.06.94zm10 10l.94 2.06.94-2.06 2.06-.94-2.06-.94-.94-2.06-.94 2.06-2.06.94z\"/><path d=\"M17.41 7.96l-1.37-1.37c-.4-.4-.92-.59-1.43-.59-.52 0-1.04.2-1.43.59L10.3 9.45l-7.72 7.72c-.78.78-.78 2.05 0 2.83L4 21.41c.39.39.9.59 1.41.59.51 0 1.02-.2 1.41-.59l7.78-7.78 2.81-2.81c.8-.78.8-2.07 0-2.86zM5.41 20L4 18.59l7.72-7.72 1.47 1.35L5.41 20z\"/>\n",
              "  </svg>\n",
              "      </button>\n",
              "      \n",
              "  <style>\n",
              "    .colab-df-container {\n",
              "      display:flex;\n",
              "      flex-wrap:wrap;\n",
              "      gap: 12px;\n",
              "    }\n",
              "\n",
              "    .colab-df-convert {\n",
              "      background-color: #E8F0FE;\n",
              "      border: none;\n",
              "      border-radius: 50%;\n",
              "      cursor: pointer;\n",
              "      display: none;\n",
              "      fill: #1967D2;\n",
              "      height: 32px;\n",
              "      padding: 0 0 0 0;\n",
              "      width: 32px;\n",
              "    }\n",
              "\n",
              "    .colab-df-convert:hover {\n",
              "      background-color: #E2EBFA;\n",
              "      box-shadow: 0px 1px 2px rgba(60, 64, 67, 0.3), 0px 1px 3px 1px rgba(60, 64, 67, 0.15);\n",
              "      fill: #174EA6;\n",
              "    }\n",
              "\n",
              "    [theme=dark] .colab-df-convert {\n",
              "      background-color: #3B4455;\n",
              "      fill: #D2E3FC;\n",
              "    }\n",
              "\n",
              "    [theme=dark] .colab-df-convert:hover {\n",
              "      background-color: #434B5C;\n",
              "      box-shadow: 0px 1px 3px 1px rgba(0, 0, 0, 0.15);\n",
              "      filter: drop-shadow(0px 1px 2px rgba(0, 0, 0, 0.3));\n",
              "      fill: #FFFFFF;\n",
              "    }\n",
              "  </style>\n",
              "\n",
              "      <script>\n",
              "        const buttonEl =\n",
              "          document.querySelector('#df-3c825fae-7395-4762-9438-c1f7c2a43e02 button.colab-df-convert');\n",
              "        buttonEl.style.display =\n",
              "          google.colab.kernel.accessAllowed ? 'block' : 'none';\n",
              "\n",
              "        async function convertToInteractive(key) {\n",
              "          const element = document.querySelector('#df-3c825fae-7395-4762-9438-c1f7c2a43e02');\n",
              "          const dataTable =\n",
              "            await google.colab.kernel.invokeFunction('convertToInteractive',\n",
              "                                                     [key], {});\n",
              "          if (!dataTable) return;\n",
              "\n",
              "          const docLinkHtml = 'Like what you see? Visit the ' +\n",
              "            '<a target=\"_blank\" href=https://colab.research.google.com/notebooks/data_table.ipynb>data table notebook</a>'\n",
              "            + ' to learn more about interactive tables.';\n",
              "          element.innerHTML = '';\n",
              "          dataTable['output_type'] = 'display_data';\n",
              "          await google.colab.output.renderOutput(dataTable, element);\n",
              "          const docLink = document.createElement('div');\n",
              "          docLink.innerHTML = docLinkHtml;\n",
              "          element.appendChild(docLink);\n",
              "        }\n",
              "      </script>\n",
              "    </div>\n",
              "  </div>\n",
              "  "
            ],
            "text/plain": [
              "   status    count\n",
              "0     200  3100405\n",
              "1     302    12562\n",
              "2     304   266773\n",
              "3     400       15\n",
              "4     403      225\n",
              "5     404    20848\n",
              "6     500       65\n",
              "7     501       41"
            ]
          },
          "metadata": {},
          "execution_count": 112
        }
      ],
      "source": [
        "status_freq_pd_df = status_freq_df.toPandas()\n",
        "status_freq_pd_df"
      ]
    },
    {
      "cell_type": "code",
      "execution_count": 113,
      "metadata": {
        "colab": {
          "base_uri": "https://localhost:8080/",
          "height": 316
        },
        "id": "KXkKQA-WXvC8",
        "outputId": "af1d31cd-255f-4809-adb8-573b4c558876"
      },
      "outputs": [
        {
          "output_type": "execute_result",
          "data": {
            "text/plain": [
              "<matplotlib.axes._subplots.AxesSubplot at 0x7f84cab26b10>"
            ]
          },
          "metadata": {},
          "execution_count": 113
        },
        {
          "output_type": "display_data",
          "data": {
            "image/png": "[encoded data removed]",
            "text/plain": [
              "<Figure size 432x288 with 1 Axes>"
            ]
          },
          "metadata": {
            "needs_background": "light"
          }
        }
      ],
      "source": [
        "import matplotlib.pyplot as plt\n",
        "%matplotlib inline\n",
        "\n",
        "status_freq_pd_df.plot(x='status', y='count', kind='bar')"
      ]
    },
    {
      "cell_type": "code",
      "execution_count": 114,
      "metadata": {
        "colab": {
          "base_uri": "https://localhost:8080/"
        },
        "id": "iabid8S6XvC_",
        "outputId": "3c056692-8497-44f1-88fb-384548807f3d"
      },
      "outputs": [
        {
          "output_type": "stream",
          "name": "stdout",
          "text": [
            "+------+-------+------------------+\n",
            "|status|  count|        log(count)|\n",
            "+------+-------+------------------+\n",
            "|   200|3100405|14.947043306083328|\n",
            "|   302|  12562| 9.438431663014326|\n",
            "|   304| 266773|12.494153388502301|\n",
            "|   400|     15|  2.70805020110221|\n",
            "|   403|    225|  5.41610040220442|\n",
            "|   404|  20848| 9.945013299364627|\n",
            "|   500|     65| 4.174387269895637|\n",
            "|   501|     41| 3.713572066704308|\n",
            "+------+-------+------------------+\n",
            "\n"
          ]
        }
      ],
      "source": [
        "log_freq_df = status_freq_df.withColumn('log(count)', F.log(status_freq_df['count']))\n",
        "log_freq_df.show()"
      ]
    },
    {
      "cell_type": "markdown",
      "metadata": {
        "id": "CWcfTjlUXvDC"
      },
      "source": [
        "#### Q5: Your Turn: Convert the log\\_freq\\_df to a pandas DataFrame and plot a bar chart displaying counts of each HTTP Status Code"
      ]
    },
    {
      "cell_type": "code",
      "execution_count": 115,
      "metadata": {
        "colab": {
          "base_uri": "https://localhost:8080/",
          "height": 306
        },
        "id": "RWWwF5NcXvDD",
        "outputId": "ffc93792-96ad-484f-9bbe-085581194fe0"
      },
      "outputs": [
        {
          "output_type": "execute_result",
          "data": {
            "text/plain": [
              "<matplotlib.axes._subplots.AxesSubplot at 0x7f84ca50fa10>"
            ]
          },
          "metadata": {},
          "execution_count": 115
        },
        {
          "output_type": "display_data",
          "data": {
            "image/png": "[encoded data removed]",
            "text/plain": [
              "<Figure size 432x288 with 1 Axes>"
            ]
          },
          "metadata": {
            "needs_background": "light"
          }
        }
      ],
      "source": [
        "# TODO: Replace <FILL IN> with appropriate code\n",
        "log_freq_pd_df = log_freq_df.toPandas()\n",
        "log_freq_pd_df.plot(x='status', y='log(count)', kind='bar')"
      ]
    },
    {
      "cell_type": "markdown",
      "metadata": {
        "id": "k5oXMLxSXvDH"
      },
      "source": [
        "## Your Turn: Q6: Analyzing Frequent Hosts\n",
        "\n",
        "Let's look at hosts that have accessed the server frequently. Try to get the count of total accesses by each `host` and then sort by the counts and display only the top ten most frequent hosts.\n",
        "\n",
        "__Hints:__\n",
        "\n",
        "- Your Spark DataFrame has a `host` column\n",
        "- Get the counts per `host` which would make a `count` column\n",
        "- Sort by the counts. Please check [__the documentation__](https://spark.apache.org/docs/latest/api/python/pyspark.sql.html#pyspark.sql.DataFrame.sort) to see how to sort in reverse\n",
        "- Remember only to get the top 10 rows from the aggregated dataframe and show them"
      ]
    },
    {
      "cell_type": "code",
      "execution_count": 116,
      "metadata": {
        "colab": {
          "base_uri": "https://localhost:8080/"
        },
        "id": "eBBayokUXvDM",
        "outputId": "fe01b469-54d7-4a04-e00d-1b3a76728029"
      },
      "outputs": [
        {
          "output_type": "stream",
          "name": "stdout",
          "text": [
            "+--------------------+-----+\n",
            "|host                |count|\n",
            "+--------------------+-----+\n",
            "|piweba3y.prodigy.com|21291|\n",
            "|piweba4y.prodigy.com|15949|\n",
            "|piweba1y.prodigy.com|12386|\n",
            "|edams.ksc.nasa.gov  |11843|\n",
            "|163.206.89.4        |9509 |\n",
            "|news.ti.com         |7990 |\n",
            "|www-d1.proxy.aol.com|7829 |\n",
            "|alyssa.prodigy.com  |7764 |\n",
            "|siltb10.orl.mmc.com |7573 |\n",
            "|www-a2.proxy.aol.com|7326 |\n",
            "+--------------------+-----+\n",
            "\n"
          ]
        }
      ],
      "source": [
        "# TODO: Replace <FILL IN> with appropriate code\n",
        "\n",
        "host_sum_df =logs_df.groupby('host').count().sort('count',ascending = False).limit(10)\n",
        "\n",
        "host_sum_df.show(truncate=False)"
      ]
    },
    {
      "cell_type": "code",
      "execution_count": 117,
      "metadata": {
        "colab": {
          "base_uri": "https://localhost:8080/",
          "height": 35
        },
        "id": "1dv8Ny3iXvDQ",
        "outputId": "0f3839a0-36a5-4c19-a16d-853c7044e5ca"
      },
      "outputs": [
        {
          "output_type": "execute_result",
          "data": {
            "application/vnd.google.colaboratory.intrinsic+json": {
              "type": "string"
            },
            "text/plain": [
              "'siltb10.orl.mmc.com'"
            ]
          },
          "metadata": {},
          "execution_count": 117
        }
      ],
      "source": [
        "host_sum_pd_df = host_sum_df.toPandas()\n",
        "host_sum_pd_df.iloc[8]['host']"
      ]
    },
    {
      "cell_type": "markdown",
      "metadata": {
        "id": "qJNpJU2VXvDT"
      },
      "source": [
        "Looks like we have some empty strings as one of the top host names! This teaches us a valuable lesson to not just check for nulls but also potentially empty strings when data wrangling."
      ]
    },
    {
      "cell_type": "markdown",
      "metadata": {
        "id": "Pq5jiBtIXvDU"
      },
      "source": [
        "## Your Turn: Q7: Display the Top 20 Frequent EndPoints\n",
        "\n",
        "Now, let's visualize the number of hits to endpoints (URIs) in the log. To perform this task, start with our `logs_df` and group by the `endpoint` column, aggregate by count, and sort in descending order like the previous question. Also remember to show only the top 20 most frequently accessed endpoints"
      ]
    },
    {
      "cell_type": "code",
      "execution_count": 118,
      "metadata": {
        "id": "oxZRXX-AXvDU"
      },
      "outputs": [],
      "source": [
        "# TODO: Replace <FILL IN> with appropriate code\n",
        "\n",
        "paths_df = (logs_df.groupby('endpoint').count().sort('count',ascending = False).limit(20))"
      ]
    },
    {
      "cell_type": "code",
      "execution_count": 119,
      "metadata": {
        "colab": {
          "base_uri": "https://localhost:8080/",
          "height": 676
        },
        "id": "DwfjJG2jXvDX",
        "outputId": "f0e2799d-848f-41c8-a7b5-30cd6338be35"
      },
      "outputs": [
        {
          "output_type": "execute_result",
          "data": {
            "text/html": [
              "\n",
              "  <div id=\"df-ff6f72cb-865e-461b-bbf1-51765535eef5\">\n",
              "    <div class=\"colab-df-container\">\n",
              "      <div>\n",
              "<style scoped>\n",
              "    .dataframe tbody tr th:only-of-type {\n",
              "        vertical-align: middle;\n",
              "    }\n",
              "\n",
              "    .dataframe tbody tr th {\n",
              "        vertical-align: top;\n",
              "    }\n",
              "\n",
              "    .dataframe thead th {\n",
              "        text-align: right;\n",
              "    }\n",
              "</style>\n",
              "<table border=\"1\" class=\"dataframe\">\n",
              "  <thead>\n",
              "    <tr style=\"text-align: right;\">\n",
              "      <th></th>\n",
              "      <th>endpoint</th>\n",
              "      <th>count</th>\n",
              "    </tr>\n",
              "  </thead>\n",
              "  <tbody>\n",
              "    <tr>\n",
              "      <th>0</th>\n",
              "      <td>/images/NASA-logosmall.gif</td>\n",
              "      <td>208711</td>\n",
              "    </tr>\n",
              "    <tr>\n",
              "      <th>1</th>\n",
              "      <td>/images/KSC-logosmall.gif</td>\n",
              "      <td>164967</td>\n",
              "    </tr>\n",
              "    <tr>\n",
              "      <th>2</th>\n",
              "      <td>/images/MOSAIC-logosmall.gif</td>\n",
              "      <td>127907</td>\n",
              "    </tr>\n",
              "    <tr>\n",
              "      <th>3</th>\n",
              "      <td>/images/USA-logosmall.gif</td>\n",
              "      <td>127073</td>\n",
              "    </tr>\n",
              "    <tr>\n",
              "      <th>4</th>\n",
              "      <td>/images/WORLD-logosmall.gif</td>\n",
              "      <td>125924</td>\n",
              "    </tr>\n",
              "    <tr>\n",
              "      <th>5</th>\n",
              "      <td>/images/ksclogo-medium.gif</td>\n",
              "      <td>121571</td>\n",
              "    </tr>\n",
              "    <tr>\n",
              "      <th>6</th>\n",
              "      <td>/ksc.html</td>\n",
              "      <td>83908</td>\n",
              "    </tr>\n",
              "    <tr>\n",
              "      <th>7</th>\n",
              "      <td>/images/launch-logo.gif</td>\n",
              "      <td>76004</td>\n",
              "    </tr>\n",
              "    <tr>\n",
              "      <th>8</th>\n",
              "      <td>/history/apollo/images/apollo-logo1.gif</td>\n",
              "      <td>68894</td>\n",
              "    </tr>\n",
              "    <tr>\n",
              "      <th>9</th>\n",
              "      <td>/shuttle/countdown/</td>\n",
              "      <td>64734</td>\n",
              "    </tr>\n",
              "    <tr>\n",
              "      <th>10</th>\n",
              "      <td>/</td>\n",
              "      <td>63171</td>\n",
              "    </tr>\n",
              "    <tr>\n",
              "      <th>11</th>\n",
              "      <td>/images/ksclogosmall.gif</td>\n",
              "      <td>61390</td>\n",
              "    </tr>\n",
              "    <tr>\n",
              "      <th>12</th>\n",
              "      <td>/shuttle/missions/missions.html</td>\n",
              "      <td>47307</td>\n",
              "    </tr>\n",
              "    <tr>\n",
              "      <th>13</th>\n",
              "      <td>/images/launchmedium.gif</td>\n",
              "      <td>40687</td>\n",
              "    </tr>\n",
              "    <tr>\n",
              "      <th>14</th>\n",
              "      <td>/htbin/cdt_main.pl</td>\n",
              "      <td>39871</td>\n",
              "    </tr>\n",
              "    <tr>\n",
              "      <th>15</th>\n",
              "      <td>/shuttle/missions/sts-69/mission-sts-69.html</td>\n",
              "      <td>31574</td>\n",
              "    </tr>\n",
              "    <tr>\n",
              "      <th>16</th>\n",
              "      <td>/shuttle/countdown/liftoff.html</td>\n",
              "      <td>29864</td>\n",
              "    </tr>\n",
              "    <tr>\n",
              "      <th>17</th>\n",
              "      <td>/icons/menu.xbm</td>\n",
              "      <td>29190</td>\n",
              "    </tr>\n",
              "    <tr>\n",
              "      <th>18</th>\n",
              "      <td>/shuttle/missions/sts-69/sts-69-patch-small.gif</td>\n",
              "      <td>29118</td>\n",
              "    </tr>\n",
              "    <tr>\n",
              "      <th>19</th>\n",
              "      <td>/icons/blank.xbm</td>\n",
              "      <td>28852</td>\n",
              "    </tr>\n",
              "  </tbody>\n",
              "</table>\n",
              "</div>\n",
              "      <button class=\"colab-df-convert\" onclick=\"convertToInteractive('df-ff6f72cb-865e-461b-bbf1-51765535eef5')\"\n",
              "              title=\"Convert this dataframe to an interactive table.\"\n",
              "              style=\"display:none;\">\n",
              "        \n",
              "  <svg xmlns=\"http://www.w3.org/2000/svg\" height=\"24px\"viewBox=\"0 0 24 24\"\n",
              "       width=\"24px\">\n",
              "    <path d=\"M0 0h24v24H0V0z\" fill=\"none\"/>\n",
              "    <path d=\"M18.56 5.44l.94 2.06.94-2.06 2.06-.94-2.06-.94-.94-2.06-.94 2.06-2.06.94zm-11 1L8.5 8.5l.94-2.06 2.06-.94-2.06-.94L8.5 2.5l-.94 2.06-2.06.94zm10 10l.94 2.06.94-2.06 2.06-.94-2.06-.94-.94-2.06-.94 2.06-2.06.94z\"/><path d=\"M17.41 7.96l-1.37-1.37c-.4-.4-.92-.59-1.43-.59-.52 0-1.04.2-1.43.59L10.3 9.45l-7.72 7.72c-.78.78-.78 2.05 0 2.83L4 21.41c.39.39.9.59 1.41.59.51 0 1.02-.2 1.41-.59l7.78-7.78 2.81-2.81c.8-.78.8-2.07 0-2.86zM5.41 20L4 18.59l7.72-7.72 1.47 1.35L5.41 20z\"/>\n",
              "  </svg>\n",
              "      </button>\n",
              "      \n",
              "  <style>\n",
              "    .colab-df-container {\n",
              "      display:flex;\n",
              "      flex-wrap:wrap;\n",
              "      gap: 12px;\n",
              "    }\n",
              "\n",
              "    .colab-df-convert {\n",
              "      background-color: #E8F0FE;\n",
              "      border: none;\n",
              "      border-radius: 50%;\n",
              "      cursor: pointer;\n",
              "      display: none;\n",
              "      fill: #1967D2;\n",
              "      height: 32px;\n",
              "      padding: 0 0 0 0;\n",
              "      width: 32px;\n",
              "    }\n",
              "\n",
              "    .colab-df-convert:hover {\n",
              "      background-color: #E2EBFA;\n",
              "      box-shadow: 0px 1px 2px rgba(60, 64, 67, 0.3), 0px 1px 3px 1px rgba(60, 64, 67, 0.15);\n",
              "      fill: #174EA6;\n",
              "    }\n",
              "\n",
              "    [theme=dark] .colab-df-convert {\n",
              "      background-color: #3B4455;\n",
              "      fill: #D2E3FC;\n",
              "    }\n",
              "\n",
              "    [theme=dark] .colab-df-convert:hover {\n",
              "      background-color: #434B5C;\n",
              "      box-shadow: 0px 1px 3px 1px rgba(0, 0, 0, 0.15);\n",
              "      filter: drop-shadow(0px 1px 2px rgba(0, 0, 0, 0.3));\n",
              "      fill: #FFFFFF;\n",
              "    }\n",
              "  </style>\n",
              "\n",
              "      <script>\n",
              "        const buttonEl =\n",
              "          document.querySelector('#df-ff6f72cb-865e-461b-bbf1-51765535eef5 button.colab-df-convert');\n",
              "        buttonEl.style.display =\n",
              "          google.colab.kernel.accessAllowed ? 'block' : 'none';\n",
              "\n",
              "        async function convertToInteractive(key) {\n",
              "          const element = document.querySelector('#df-ff6f72cb-865e-461b-bbf1-51765535eef5');\n",
              "          const dataTable =\n",
              "            await google.colab.kernel.invokeFunction('convertToInteractive',\n",
              "                                                     [key], {});\n",
              "          if (!dataTable) return;\n",
              "\n",
              "          const docLinkHtml = 'Like what you see? Visit the ' +\n",
              "            '<a target=\"_blank\" href=https://colab.research.google.com/notebooks/data_table.ipynb>data table notebook</a>'\n",
              "            + ' to learn more about interactive tables.';\n",
              "          element.innerHTML = '';\n",
              "          dataTable['output_type'] = 'display_data';\n",
              "          await google.colab.output.renderOutput(dataTable, element);\n",
              "          const docLink = document.createElement('div');\n",
              "          docLink.innerHTML = docLinkHtml;\n",
              "          element.appendChild(docLink);\n",
              "        }\n",
              "      </script>\n",
              "    </div>\n",
              "  </div>\n",
              "  "
            ],
            "text/plain": [
              "                                           endpoint   count\n",
              "0                        /images/NASA-logosmall.gif  208711\n",
              "1                         /images/KSC-logosmall.gif  164967\n",
              "2                      /images/MOSAIC-logosmall.gif  127907\n",
              "3                         /images/USA-logosmall.gif  127073\n",
              "4                       /images/WORLD-logosmall.gif  125924\n",
              "5                        /images/ksclogo-medium.gif  121571\n",
              "6                                         /ksc.html   83908\n",
              "7                           /images/launch-logo.gif   76004\n",
              "8           /history/apollo/images/apollo-logo1.gif   68894\n",
              "9                               /shuttle/countdown/   64734\n",
              "10                                                /   63171\n",
              "11                         /images/ksclogosmall.gif   61390\n",
              "12                  /shuttle/missions/missions.html   47307\n",
              "13                         /images/launchmedium.gif   40687\n",
              "14                               /htbin/cdt_main.pl   39871\n",
              "15     /shuttle/missions/sts-69/mission-sts-69.html   31574\n",
              "16                  /shuttle/countdown/liftoff.html   29864\n",
              "17                                  /icons/menu.xbm   29190\n",
              "18  /shuttle/missions/sts-69/sts-69-patch-small.gif   29118\n",
              "19                                 /icons/blank.xbm   28852"
            ]
          },
          "metadata": {},
          "execution_count": 119
        }
      ],
      "source": [
        "paths_pd_df = paths_df.toPandas()\n",
        "paths_pd_df"
      ]
    },
    {
      "cell_type": "markdown",
      "metadata": {
        "id": "LrK4j5aIXvDb"
      },
      "source": [
        "## Your Turn: Q8: Top Ten Error Endpoints\n",
        "\n",
        "What are the top ten endpoints requested which did not have return code 200 (HTTP Status OK)? \n",
        "\n",
        "Create a sorted list containing the endpoints and the number of times that they were accessed with a non-200 return code and show the top ten.\n",
        "\n",
        "Think about the steps that you need to perform to determine which endpoints did not have a 200 return code (combination of filtering, grouping, sorting and selecting the top ten aggregated records)"
      ]
    },
    {
      "cell_type": "code",
      "execution_count": 120,
      "metadata": {
        "id": "s57_3ODMXvDc"
      },
      "outputs": [],
      "source": [
        "# TODO: Replace <FILL IN> with appropriate code\n",
        "\n",
        "not200_df = logs_df.filter(logs_df.status != 200)\n",
        "\n",
        "\n",
        "error_endpoints_freq_df = (not200_df\n",
        "                               .groupby('endpoint').count().sort('count',ascending = False).limit(20)\n",
        "                          )"
      ]
    },
    {
      "cell_type": "code",
      "execution_count": 121,
      "metadata": {
        "colab": {
          "base_uri": "https://localhost:8080/"
        },
        "id": "GeAUAEMBXvDh",
        "outputId": "08794be9-aa70-4055-8064-e3a80f7906ff"
      },
      "outputs": [
        {
          "output_type": "stream",
          "name": "stdout",
          "text": [
            "+-----------------------------------------------+-----+\n",
            "|endpoint                                       |count|\n",
            "+-----------------------------------------------+-----+\n",
            "|/images/NASA-logosmall.gif                     |40082|\n",
            "|/images/KSC-logosmall.gif                      |23763|\n",
            "|/images/MOSAIC-logosmall.gif                   |15245|\n",
            "|/images/USA-logosmall.gif                      |15142|\n",
            "|/images/WORLD-logosmall.gif                    |14773|\n",
            "|/images/ksclogo-medium.gif                     |13559|\n",
            "|/images/launch-logo.gif                        |8806 |\n",
            "|/history/apollo/images/apollo-logo1.gif        |7489 |\n",
            "|/                                              |6296 |\n",
            "|/images/ksclogosmall.gif                       |5669 |\n",
            "|/shuttle/countdown/                            |5559 |\n",
            "|/shuttle/countdown/liftoff.html                |4777 |\n",
            "|/shuttle/countdown/images/countclock.gif       |4576 |\n",
            "|/ksc.html                                      |3916 |\n",
            "|/shuttle/missions/missions.html                |3344 |\n",
            "|/shuttle/countdown/images/cdtclock.gif         |3251 |\n",
            "|/images/launchmedium.gif                       |2965 |\n",
            "|/icons/blank.xbm                               |2856 |\n",
            "|/shuttle/missions/sts-69/sts-69-patch-small.gif|2828 |\n",
            "|/icons/menu.xbm                                |2763 |\n",
            "+-----------------------------------------------+-----+\n",
            "\n"
          ]
        }
      ],
      "source": [
        "error_endpoints_freq_df.show(truncate=False)"
      ]
    },
    {
      "cell_type": "markdown",
      "metadata": {
        "id": "ij1wJnMwXvDm"
      },
      "source": [
        "## Example: Number of Unique Daily Hosts\n",
        "\n",
        "For an advanced example, let's look at a way to determine the number of unique hosts in the entire log on a day-by-day basis. This computation will give us counts of the number of unique daily hosts. \n",
        "\n",
        "We'd like a DataFrame sorted by increasing day of the month which includes the day of the month and the associated number of unique hosts for that day. \n",
        "\n",
        "Think about the steps that you need to perform to count the number of different hosts that make requests *each* day.\n",
        "*Since the log only covers a single month, you can ignore the month.*  You may want to use the [`dayofmonth` function](https://spark.apache.org/docs/latest/api/python/pyspark.sql.html#pyspark.sql.functions.dayofmonth) in the `pyspark.sql.functions` module (which we have already imported as __`F`__.\n",
        "\n",
        "\n",
        "**`host_day_df`**\n",
        "\n",
        "A DataFrame with two columns\n",
        "\n",
        "| column | explanation          |\n",
        "| ------ | -------------------- |\n",
        "| `host` | the host name        |\n",
        "| `day`  | the day of the month |\n",
        "\n",
        "There will be one row in this DataFrame for each row in `logs_df`. Essentially, we are just transforming each row of `logs_df`. For example, for this row in `logs_df`:\n",
        "\n",
        "```\n",
        "unicomp6.unicomp.net - - [01/Aug/1995:00:35:41 -0400] \"GET /shuttle/missions/sts-73/news HTTP/1.0\" 302 -\n",
        "```\n",
        "\n",
        "your `host_day_df` should have:\n",
        "\n",
        "```\n",
        "unicomp6.unicomp.net 1\n",
        "```"
      ]
    },
    {
      "cell_type": "code",
      "execution_count": 122,
      "metadata": {
        "colab": {
          "base_uri": "https://localhost:8080/"
        },
        "id": "c0i7-gm9XvDm",
        "outputId": "1ff5a645-5c34-4d50-e26d-54a2a6f74f6a"
      },
      "outputs": [
        {
          "output_type": "stream",
          "name": "stdout",
          "text": [
            "+--------------------+---+\n",
            "|host                |day|\n",
            "+--------------------+---+\n",
            "|199.72.81.55        |1  |\n",
            "|unicomp6.unicomp.net|1  |\n",
            "|199.120.110.21      |1  |\n",
            "|burger.letters.com  |1  |\n",
            "|199.120.110.21      |1  |\n",
            "+--------------------+---+\n",
            "only showing top 5 rows\n",
            "\n"
          ]
        }
      ],
      "source": [
        "host_day_df = logs_df.select(logs_df.host, \n",
        "                             F.dayofmonth('time').alias('day'))\n",
        "host_day_df.show(5, truncate=False)"
      ]
    },
    {
      "cell_type": "markdown",
      "metadata": {
        "id": "HRu_5V4bXvDs"
      },
      "source": [
        "**`host_day_distinct_df`**\n",
        "\n",
        "This DataFrame has the same columns as `host_day_distinct_df`, but with duplicate (`day`, `host`) rows removed."
      ]
    },
    {
      "cell_type": "code",
      "execution_count": 123,
      "metadata": {
        "colab": {
          "base_uri": "https://localhost:8080/"
        },
        "id": "be9KD86vXvDt",
        "outputId": "b48177b0-4732-4c80-d63d-17627722f6d2"
      },
      "outputs": [
        {
          "output_type": "stream",
          "name": "stdout",
          "text": [
            "+-----------------------+---+\n",
            "|host                   |day|\n",
            "+-----------------------+---+\n",
            "|129.94.144.152         |1  |\n",
            "|slip1.yab.com          |1  |\n",
            "|205.184.190.47         |1  |\n",
            "|204.120.34.71          |1  |\n",
            "|ppp3_130.bekkoame.or.jp|1  |\n",
            "+-----------------------+---+\n",
            "only showing top 5 rows\n",
            "\n"
          ]
        }
      ],
      "source": [
        "host_day_distinct_df = (host_day_df\n",
        "                          .dropDuplicates())\n",
        "host_day_distinct_df.show(5, truncate=False)"
      ]
    },
    {
      "cell_type": "markdown",
      "metadata": {
        "id": "OlCEA952XvDv"
      },
      "source": [
        "**`daily_unique_hosts_df`**\n",
        "\n",
        "A DataFrame with two columns:\n",
        "\n",
        "| column  | explanation                                        |\n",
        "| ------- | -------------------------------------------------- |\n",
        "| `day`   | the day of the month                               |\n",
        "| `count` | the number of unique requesting hosts for that day |"
      ]
    },
    {
      "cell_type": "code",
      "execution_count": 124,
      "metadata": {
        "colab": {
          "base_uri": "https://localhost:8080/",
          "height": 176
        },
        "id": "TrVQJOKPXvDv",
        "outputId": "65ecf67d-5c78-410b-9343-7da4ad1a541c"
      },
      "outputs": [
        {
          "output_type": "execute_result",
          "data": {
            "text/html": [
              "\n",
              "  <div id=\"df-c4243629-7768-4971-8808-34f1f5d697cb\">\n",
              "    <div class=\"colab-df-container\">\n",
              "      <div>\n",
              "<style scoped>\n",
              "    .dataframe tbody tr th:only-of-type {\n",
              "        vertical-align: middle;\n",
              "    }\n",
              "\n",
              "    .dataframe tbody tr th {\n",
              "        vertical-align: top;\n",
              "    }\n",
              "\n",
              "    .dataframe thead th {\n",
              "        text-align: right;\n",
              "    }\n",
              "</style>\n",
              "<table border=\"1\" class=\"dataframe\">\n",
              "  <thead>\n",
              "    <tr style=\"text-align: right;\">\n",
              "      <th></th>\n",
              "      <th>0</th>\n",
              "      <th>1</th>\n",
              "      <th>2</th>\n",
              "      <th>3</th>\n",
              "      <th>4</th>\n",
              "      <th>5</th>\n",
              "      <th>6</th>\n",
              "      <th>7</th>\n",
              "      <th>8</th>\n",
              "      <th>9</th>\n",
              "      <th>10</th>\n",
              "      <th>11</th>\n",
              "      <th>12</th>\n",
              "      <th>13</th>\n",
              "      <th>14</th>\n",
              "      <th>15</th>\n",
              "      <th>16</th>\n",
              "      <th>17</th>\n",
              "      <th>18</th>\n",
              "      <th>19</th>\n",
              "      <th>20</th>\n",
              "      <th>21</th>\n",
              "      <th>22</th>\n",
              "      <th>23</th>\n",
              "      <th>24</th>\n",
              "      <th>25</th>\n",
              "      <th>26</th>\n",
              "      <th>27</th>\n",
              "      <th>28</th>\n",
              "      <th>29</th>\n",
              "      <th>30</th>\n",
              "    </tr>\n",
              "  </thead>\n",
              "  <tbody>\n",
              "    <tr>\n",
              "      <th>day</th>\n",
              "      <td>1</td>\n",
              "      <td>2</td>\n",
              "      <td>3</td>\n",
              "      <td>4</td>\n",
              "      <td>5</td>\n",
              "      <td>6</td>\n",
              "      <td>7</td>\n",
              "      <td>8</td>\n",
              "      <td>9</td>\n",
              "      <td>10</td>\n",
              "      <td>11</td>\n",
              "      <td>12</td>\n",
              "      <td>13</td>\n",
              "      <td>14</td>\n",
              "      <td>15</td>\n",
              "      <td>16</td>\n",
              "      <td>17</td>\n",
              "      <td>18</td>\n",
              "      <td>19</td>\n",
              "      <td>20</td>\n",
              "      <td>21</td>\n",
              "      <td>22</td>\n",
              "      <td>23</td>\n",
              "      <td>24</td>\n",
              "      <td>25</td>\n",
              "      <td>26</td>\n",
              "      <td>27</td>\n",
              "      <td>28</td>\n",
              "      <td>29</td>\n",
              "      <td>30</td>\n",
              "      <td>31</td>\n",
              "    </tr>\n",
              "    <tr>\n",
              "      <th>count</th>\n",
              "      <td>7606</td>\n",
              "      <td>4855</td>\n",
              "      <td>10233</td>\n",
              "      <td>9410</td>\n",
              "      <td>9637</td>\n",
              "      <td>10132</td>\n",
              "      <td>10045</td>\n",
              "      <td>7112</td>\n",
              "      <td>6696</td>\n",
              "      <td>8530</td>\n",
              "      <td>8785</td>\n",
              "      <td>8133</td>\n",
              "      <td>9563</td>\n",
              "      <td>9300</td>\n",
              "      <td>7126</td>\n",
              "      <td>7142</td>\n",
              "      <td>8839</td>\n",
              "      <td>8261</td>\n",
              "      <td>7236</td>\n",
              "      <td>7070</td>\n",
              "      <td>8035</td>\n",
              "      <td>6825</td>\n",
              "      <td>6796</td>\n",
              "      <td>7944</td>\n",
              "      <td>8332</td>\n",
              "      <td>6740</td>\n",
              "      <td>6844</td>\n",
              "      <td>6090</td>\n",
              "      <td>4825</td>\n",
              "      <td>5265</td>\n",
              "      <td>5913</td>\n",
              "    </tr>\n",
              "  </tbody>\n",
              "</table>\n",
              "</div>\n",
              "      <button class=\"colab-df-convert\" onclick=\"convertToInteractive('df-c4243629-7768-4971-8808-34f1f5d697cb')\"\n",
              "              title=\"Convert this dataframe to an interactive table.\"\n",
              "              style=\"display:none;\">\n",
              "        \n",
              "  <svg xmlns=\"http://www.w3.org/2000/svg\" height=\"24px\"viewBox=\"0 0 24 24\"\n",
              "       width=\"24px\">\n",
              "    <path d=\"M0 0h24v24H0V0z\" fill=\"none\"/>\n",
              "    <path d=\"M18.56 5.44l.94 2.06.94-2.06 2.06-.94-2.06-.94-.94-2.06-.94 2.06-2.06.94zm-11 1L8.5 8.5l.94-2.06 2.06-.94-2.06-.94L8.5 2.5l-.94 2.06-2.06.94zm10 10l.94 2.06.94-2.06 2.06-.94-2.06-.94-.94-2.06-.94 2.06-2.06.94z\"/><path d=\"M17.41 7.96l-1.37-1.37c-.4-.4-.92-.59-1.43-.59-.52 0-1.04.2-1.43.59L10.3 9.45l-7.72 7.72c-.78.78-.78 2.05 0 2.83L4 21.41c.39.39.9.59 1.41.59.51 0 1.02-.2 1.41-.59l7.78-7.78 2.81-2.81c.8-.78.8-2.07 0-2.86zM5.41 20L4 18.59l7.72-7.72 1.47 1.35L5.41 20z\"/>\n",
              "  </svg>\n",
              "      </button>\n",
              "      \n",
              "  <style>\n",
              "    .colab-df-container {\n",
              "      display:flex;\n",
              "      flex-wrap:wrap;\n",
              "      gap: 12px;\n",
              "    }\n",
              "\n",
              "    .colab-df-convert {\n",
              "      background-color: #E8F0FE;\n",
              "      border: none;\n",
              "      border-radius: 50%;\n",
              "      cursor: pointer;\n",
              "      display: none;\n",
              "      fill: #1967D2;\n",
              "      height: 32px;\n",
              "      padding: 0 0 0 0;\n",
              "      width: 32px;\n",
              "    }\n",
              "\n",
              "    .colab-df-convert:hover {\n",
              "      background-color: #E2EBFA;\n",
              "      box-shadow: 0px 1px 2px rgba(60, 64, 67, 0.3), 0px 1px 3px 1px rgba(60, 64, 67, 0.15);\n",
              "      fill: #174EA6;\n",
              "    }\n",
              "\n",
              "    [theme=dark] .colab-df-convert {\n",
              "      background-color: #3B4455;\n",
              "      fill: #D2E3FC;\n",
              "    }\n",
              "\n",
              "    [theme=dark] .colab-df-convert:hover {\n",
              "      background-color: #434B5C;\n",
              "      box-shadow: 0px 1px 3px 1px rgba(0, 0, 0, 0.15);\n",
              "      filter: drop-shadow(0px 1px 2px rgba(0, 0, 0, 0.3));\n",
              "      fill: #FFFFFF;\n",
              "    }\n",
              "  </style>\n",
              "\n",
              "      <script>\n",
              "        const buttonEl =\n",
              "          document.querySelector('#df-c4243629-7768-4971-8808-34f1f5d697cb button.colab-df-convert');\n",
              "        buttonEl.style.display =\n",
              "          google.colab.kernel.accessAllowed ? 'block' : 'none';\n",
              "\n",
              "        async function convertToInteractive(key) {\n",
              "          const element = document.querySelector('#df-c4243629-7768-4971-8808-34f1f5d697cb');\n",
              "          const dataTable =\n",
              "            await google.colab.kernel.invokeFunction('convertToInteractive',\n",
              "                                                     [key], {});\n",
              "          if (!dataTable) return;\n",
              "\n",
              "          const docLinkHtml = 'Like what you see? Visit the ' +\n",
              "            '<a target=\"_blank\" href=https://colab.research.google.com/notebooks/data_table.ipynb>data table notebook</a>'\n",
              "            + ' to learn more about interactive tables.';\n",
              "          element.innerHTML = '';\n",
              "          dataTable['output_type'] = 'display_data';\n",
              "          await google.colab.output.renderOutput(dataTable, element);\n",
              "          const docLink = document.createElement('div');\n",
              "          docLink.innerHTML = docLinkHtml;\n",
              "          element.appendChild(docLink);\n",
              "        }\n",
              "      </script>\n",
              "    </div>\n",
              "  </div>\n",
              "  "
            ],
            "text/plain": [
              "         0     1      2     3     4      5   ...    25    26    27    28    29    30\n",
              "day       1     2      3     4     5      6  ...    26    27    28    29    30    31\n",
              "count  7606  4855  10233  9410  9637  10132  ...  6740  6844  6090  4825  5265  5913\n",
              "\n",
              "[2 rows x 31 columns]"
            ]
          },
          "metadata": {},
          "execution_count": 124
        }
      ],
      "source": [
        "daily_hosts_df = (host_day_distinct_df\n",
        "                     .groupBy('day')\n",
        "                     .count()\n",
        "                     .sort(\"day\"))\n",
        "daily_hosts_df = daily_hosts_df.toPandas()\n",
        "daily_hosts_df.T"
      ]
    },
    {
      "cell_type": "code",
      "execution_count": 125,
      "metadata": {
        "colab": {
          "base_uri": "https://localhost:8080/",
          "height": 296
        },
        "id": "PUdqNQHiXvDz",
        "outputId": "e2be7835-c697-4ab7-e7d7-5bbe460e5972"
      },
      "outputs": [
        {
          "output_type": "execute_result",
          "data": {
            "text/plain": [
              "<matplotlib.axes._subplots.AxesSubplot at 0x7f84ca9beb10>"
            ]
          },
          "metadata": {},
          "execution_count": 125
        },
        {
          "output_type": "display_data",
          "data": {
            "image/png": "[encoded data removed]",
            "text/plain": [
              "<Figure size 432x288 with 1 Axes>"
            ]
          },
          "metadata": {
            "needs_background": "light"
          }
        }
      ],
      "source": [
        "daily_hosts_df.plot(x='day', y='count', kind='line')"
      ]
    },
    {
      "cell_type": "markdown",
      "metadata": {
        "id": "O5M-HoWHXvD1"
      },
      "source": [
        "## Your Turn: Q9: Counting 404 Response Codes\n",
        "\n",
        "Create a DataFrame containing only log records with a 404 status code (Not Found). \n",
        "\n",
        "Make sure you `cache()` the `not_found_df` dataframe as we will use it in the rest of the exercises here.\n",
        "\n",
        "__How many 404 records are in the log?__"
      ]
    },
    {
      "cell_type": "code",
      "execution_count": 126,
      "metadata": {
        "colab": {
          "base_uri": "https://localhost:8080/"
        },
        "id": "XovkxrduXvD2",
        "outputId": "20736c20-cdbb-46f9-d299-22809a6bb4e6"
      },
      "outputs": [
        {
          "output_type": "stream",
          "name": "stdout",
          "text": [
            "Total 404 responses: 20848\n"
          ]
        }
      ],
      "source": [
        "# TODO: Replace <FILL IN> with appropriate code\n",
        "\n",
        "not_found_df = logs_df.filter(logs_df['status'] == 404).cache()\n",
        "print(('Total 404 responses: {}').format(not_found_df.count()))"
      ]
    },
    {
      "cell_type": "markdown",
      "metadata": {
        "id": "wdwYDLCnXvD5"
      },
      "source": [
        "## Your Turn: Q10: Listing the Top Twenty 404 Response Code Endpoints\n",
        "\n",
        "Using the DataFrame containing only log records with a 404 response code that you cached in Q9, print out a list of the top twenty endpoints that generate the most 404 errors.\n",
        "\n",
        "*Remember, top endpoints should be in sorted order*"
      ]
    },
    {
      "cell_type": "code",
      "execution_count": 127,
      "metadata": {
        "colab": {
          "base_uri": "https://localhost:8080/"
        },
        "id": "Gv3egQAEXvD5",
        "outputId": "5e4c82ff-b234-48e6-e565-ef4fd6088b2c"
      },
      "outputs": [
        {
          "output_type": "stream",
          "name": "stdout",
          "text": [
            "+-----------------------------------------------------------------+-----+\n",
            "|endpoint                                                         |count|\n",
            "+-----------------------------------------------------------------+-----+\n",
            "|/pub/winvn/readme.txt                                            |2004 |\n",
            "|/pub/winvn/release.txt                                           |1732 |\n",
            "|/shuttle/missions/STS-69/mission-STS-69.html                     |683  |\n",
            "|/shuttle/missions/sts-68/ksc-upclose.gif                         |428  |\n",
            "|/history/apollo/a-001/a-001-patch-small.gif                      |384  |\n",
            "|/history/apollo/sa-1/sa-1-patch-small.gif                        |383  |\n",
            "|/://spacelink.msfc.nasa.gov                                      |381  |\n",
            "|/images/crawlerway-logo.gif                                      |374  |\n",
            "|/elv/DELTA/uncons.htm                                            |372  |\n",
            "|/history/apollo/pad-abort-test-1/pad-abort-test-1-patch-small.gif|359  |\n",
            "|/images/nasa-logo.gif                                            |319  |\n",
            "|/shuttle/resources/orbiters/atlantis.gif                         |314  |\n",
            "|/history/apollo/apollo-13.html                                   |304  |\n",
            "|/shuttle/resources/orbiters/discovery.gif                        |263  |\n",
            "|/shuttle/missions/sts-71/images/KSC-95EC-0916.txt                |190  |\n",
            "|/shuttle/resources/orbiters/challenger.gif                       |170  |\n",
            "|/shuttle/missions/technology/sts-newsref/stsref-toc.html         |158  |\n",
            "|/history/apollo/images/little-joe.jpg                            |150  |\n",
            "|/images/lf-logo.gif                                              |143  |\n",
            "|/history/apollo/publications/sp-350/sp-350.txt~                  |140  |\n",
            "+-----------------------------------------------------------------+-----+\n",
            "\n"
          ]
        }
      ],
      "source": [
        "# TODO: Replace <FILL IN> with appropriate code\n",
        "\n",
        "hosts_404_count_df = (not_found_df\n",
        "                          .groupby('endpoint').count().sort('count',ascending=False).limit(20))\n",
        "\n",
        "hosts_404_count_df.show(truncate=False)"
      ]
    },
    {
      "cell_type": "markdown",
      "metadata": {
        "id": "UpQl8xaPXvD8"
      },
      "source": [
        "## Your Turn: Q11: Visualizing 404 Errors per Day\n",
        "\n",
        "Let's explore the 404 records temporally now. Similar to the example showing the number of unique daily hosts, break down the 404 requests by day and get the daily counts sorted by day in `errors_by_date_sorted_df`.\n",
        "\n",
        "- Display the results as a pandas dataframe \n",
        "- Also visualize the same dataframe then as a line chart"
      ]
    },
    {
      "cell_type": "code",
      "execution_count": 128,
      "metadata": {
        "colab": {
          "base_uri": "https://localhost:8080/",
          "height": 176
        },
        "id": "69N8tHpzXvD9",
        "outputId": "72bd5723-24c8-4de5-f847-cae946924e38"
      },
      "outputs": [
        {
          "output_type": "execute_result",
          "data": {
            "text/html": [
              "\n",
              "  <div id=\"df-ba69b66a-65fc-47e4-90e0-84cf714894ba\">\n",
              "    <div class=\"colab-df-container\">\n",
              "      <div>\n",
              "<style scoped>\n",
              "    .dataframe tbody tr th:only-of-type {\n",
              "        vertical-align: middle;\n",
              "    }\n",
              "\n",
              "    .dataframe tbody tr th {\n",
              "        vertical-align: top;\n",
              "    }\n",
              "\n",
              "    .dataframe thead th {\n",
              "        text-align: right;\n",
              "    }\n",
              "</style>\n",
              "<table border=\"1\" class=\"dataframe\">\n",
              "  <thead>\n",
              "    <tr style=\"text-align: right;\">\n",
              "      <th></th>\n",
              "      <th>0</th>\n",
              "      <th>1</th>\n",
              "      <th>2</th>\n",
              "      <th>3</th>\n",
              "      <th>4</th>\n",
              "      <th>5</th>\n",
              "      <th>6</th>\n",
              "      <th>7</th>\n",
              "      <th>8</th>\n",
              "      <th>9</th>\n",
              "      <th>10</th>\n",
              "      <th>11</th>\n",
              "      <th>12</th>\n",
              "      <th>13</th>\n",
              "      <th>14</th>\n",
              "      <th>15</th>\n",
              "      <th>16</th>\n",
              "      <th>17</th>\n",
              "      <th>18</th>\n",
              "      <th>19</th>\n",
              "      <th>20</th>\n",
              "      <th>21</th>\n",
              "      <th>22</th>\n",
              "      <th>23</th>\n",
              "      <th>24</th>\n",
              "      <th>25</th>\n",
              "      <th>26</th>\n",
              "      <th>27</th>\n",
              "      <th>28</th>\n",
              "      <th>29</th>\n",
              "      <th>30</th>\n",
              "    </tr>\n",
              "  </thead>\n",
              "  <tbody>\n",
              "    <tr>\n",
              "      <th>day</th>\n",
              "      <td>1</td>\n",
              "      <td>2</td>\n",
              "      <td>3</td>\n",
              "      <td>4</td>\n",
              "      <td>5</td>\n",
              "      <td>6</td>\n",
              "      <td>7</td>\n",
              "      <td>8</td>\n",
              "      <td>9</td>\n",
              "      <td>10</td>\n",
              "      <td>11</td>\n",
              "      <td>12</td>\n",
              "      <td>13</td>\n",
              "      <td>14</td>\n",
              "      <td>15</td>\n",
              "      <td>16</td>\n",
              "      <td>17</td>\n",
              "      <td>18</td>\n",
              "      <td>19</td>\n",
              "      <td>20</td>\n",
              "      <td>21</td>\n",
              "      <td>22</td>\n",
              "      <td>23</td>\n",
              "      <td>24</td>\n",
              "      <td>25</td>\n",
              "      <td>26</td>\n",
              "      <td>27</td>\n",
              "      <td>28</td>\n",
              "      <td>29</td>\n",
              "      <td>30</td>\n",
              "      <td>31</td>\n",
              "    </tr>\n",
              "    <tr>\n",
              "      <th>count</th>\n",
              "      <td>557</td>\n",
              "      <td>291</td>\n",
              "      <td>775</td>\n",
              "      <td>704</td>\n",
              "      <td>732</td>\n",
              "      <td>1010</td>\n",
              "      <td>1103</td>\n",
              "      <td>688</td>\n",
              "      <td>626</td>\n",
              "      <td>713</td>\n",
              "      <td>734</td>\n",
              "      <td>666</td>\n",
              "      <td>740</td>\n",
              "      <td>699</td>\n",
              "      <td>581</td>\n",
              "      <td>515</td>\n",
              "      <td>673</td>\n",
              "      <td>721</td>\n",
              "      <td>848</td>\n",
              "      <td>730</td>\n",
              "      <td>639</td>\n",
              "      <td>477</td>\n",
              "      <td>577</td>\n",
              "      <td>748</td>\n",
              "      <td>875</td>\n",
              "      <td>702</td>\n",
              "      <td>706</td>\n",
              "      <td>504</td>\n",
              "      <td>420</td>\n",
              "      <td>571</td>\n",
              "      <td>523</td>\n",
              "    </tr>\n",
              "  </tbody>\n",
              "</table>\n",
              "</div>\n",
              "      <button class=\"colab-df-convert\" onclick=\"convertToInteractive('df-ba69b66a-65fc-47e4-90e0-84cf714894ba')\"\n",
              "              title=\"Convert this dataframe to an interactive table.\"\n",
              "              style=\"display:none;\">\n",
              "        \n",
              "  <svg xmlns=\"http://www.w3.org/2000/svg\" height=\"24px\"viewBox=\"0 0 24 24\"\n",
              "       width=\"24px\">\n",
              "    <path d=\"M0 0h24v24H0V0z\" fill=\"none\"/>\n",
              "    <path d=\"M18.56 5.44l.94 2.06.94-2.06 2.06-.94-2.06-.94-.94-2.06-.94 2.06-2.06.94zm-11 1L8.5 8.5l.94-2.06 2.06-.94-2.06-.94L8.5 2.5l-.94 2.06-2.06.94zm10 10l.94 2.06.94-2.06 2.06-.94-2.06-.94-.94-2.06-.94 2.06-2.06.94z\"/><path d=\"M17.41 7.96l-1.37-1.37c-.4-.4-.92-.59-1.43-.59-.52 0-1.04.2-1.43.59L10.3 9.45l-7.72 7.72c-.78.78-.78 2.05 0 2.83L4 21.41c.39.39.9.59 1.41.59.51 0 1.02-.2 1.41-.59l7.78-7.78 2.81-2.81c.8-.78.8-2.07 0-2.86zM5.41 20L4 18.59l7.72-7.72 1.47 1.35L5.41 20z\"/>\n",
              "  </svg>\n",
              "      </button>\n",
              "      \n",
              "  <style>\n",
              "    .colab-df-container {\n",
              "      display:flex;\n",
              "      flex-wrap:wrap;\n",
              "      gap: 12px;\n",
              "    }\n",
              "\n",
              "    .colab-df-convert {\n",
              "      background-color: #E8F0FE;\n",
              "      border: none;\n",
              "      border-radius: 50%;\n",
              "      cursor: pointer;\n",
              "      display: none;\n",
              "      fill: #1967D2;\n",
              "      height: 32px;\n",
              "      padding: 0 0 0 0;\n",
              "      width: 32px;\n",
              "    }\n",
              "\n",
              "    .colab-df-convert:hover {\n",
              "      background-color: #E2EBFA;\n",
              "      box-shadow: 0px 1px 2px rgba(60, 64, 67, 0.3), 0px 1px 3px 1px rgba(60, 64, 67, 0.15);\n",
              "      fill: #174EA6;\n",
              "    }\n",
              "\n",
              "    [theme=dark] .colab-df-convert {\n",
              "      background-color: #3B4455;\n",
              "      fill: #D2E3FC;\n",
              "    }\n",
              "\n",
              "    [theme=dark] .colab-df-convert:hover {\n",
              "      background-color: #434B5C;\n",
              "      box-shadow: 0px 1px 3px 1px rgba(0, 0, 0, 0.15);\n",
              "      filter: drop-shadow(0px 1px 2px rgba(0, 0, 0, 0.3));\n",
              "      fill: #FFFFFF;\n",
              "    }\n",
              "  </style>\n",
              "\n",
              "      <script>\n",
              "        const buttonEl =\n",
              "          document.querySelector('#df-ba69b66a-65fc-47e4-90e0-84cf714894ba button.colab-df-convert');\n",
              "        buttonEl.style.display =\n",
              "          google.colab.kernel.accessAllowed ? 'block' : 'none';\n",
              "\n",
              "        async function convertToInteractive(key) {\n",
              "          const element = document.querySelector('#df-ba69b66a-65fc-47e4-90e0-84cf714894ba');\n",
              "          const dataTable =\n",
              "            await google.colab.kernel.invokeFunction('convertToInteractive',\n",
              "                                                     [key], {});\n",
              "          if (!dataTable) return;\n",
              "\n",
              "          const docLinkHtml = 'Like what you see? Visit the ' +\n",
              "            '<a target=\"_blank\" href=https://colab.research.google.com/notebooks/data_table.ipynb>data table notebook</a>'\n",
              "            + ' to learn more about interactive tables.';\n",
              "          element.innerHTML = '';\n",
              "          dataTable['output_type'] = 'display_data';\n",
              "          await google.colab.output.renderOutput(dataTable, element);\n",
              "          const docLink = document.createElement('div');\n",
              "          docLink.innerHTML = docLinkHtml;\n",
              "          element.appendChild(docLink);\n",
              "        }\n",
              "      </script>\n",
              "    </div>\n",
              "  </div>\n",
              "  "
            ],
            "text/plain": [
              "        0    1    2    3    4     5     6   ...   24   25   26   27   28   29   30\n",
              "day      1    2    3    4    5     6     7  ...   25   26   27   28   29   30   31\n",
              "count  557  291  775  704  732  1010  1103  ...  875  702  706  504  420  571  523\n",
              "\n",
              "[2 rows x 31 columns]"
            ]
          },
          "metadata": {},
          "execution_count": 128
        }
      ],
      "source": [
        "# TODO: Replace <FILL IN> with appropriate code\n",
        "\n",
        "errors_by_date_sorted_df = (not_found_df\n",
        "                                .select(not_found_df.host, F.dayofmonth('time').alias('day')))\n",
        "\n",
        "errors_by_date_sorted_df= errors_by_date_sorted_df.groupby('day').count().sort(\"day\")\n",
        "errors_by_date_sorted_df = errors_by_date_sorted_df.toPandas()\n",
        "errors_by_date_sorted_df.T"
      ]
    },
    {
      "cell_type": "code",
      "execution_count": 129,
      "metadata": {
        "colab": {
          "base_uri": "https://localhost:8080/",
          "height": 296
        },
        "id": "y-pFX8dJXvD_",
        "outputId": "c254658b-6786-4afe-cf44-5a75aff541e0"
      },
      "outputs": [
        {
          "output_type": "execute_result",
          "data": {
            "text/plain": [
              "<matplotlib.axes._subplots.AxesSubplot at 0x7f84ca3cddd0>"
            ]
          },
          "metadata": {},
          "execution_count": 129
        },
        {
          "output_type": "display_data",
          "data": {
            "image/png": "[encoded data removed]",
            "text/plain": [
              "<Figure size 432x288 with 1 Axes>"
            ]
          },
          "metadata": {
            "needs_background": "light"
          }
        }
      ],
      "source": [
        "errors_by_date_sorted_df.plot(x='day', y='count', kind='line')"
      ]
    },
    {
      "cell_type": "markdown",
      "metadata": {
        "id": "lRY2RYHeXvED"
      },
      "source": [
        "## Your Turn: Q12: Visualizing Hourly 404 Errors\n",
        "\n",
        "Using the DataFrame `not_found_df` you cached in the Q10, group and sort by hour of the day in increasing order, to create a DataFrame containing the total number of 404 responses for HTTP requests for each hour of the day (midnight starts at 0). \n",
        "\n",
        "- Remember to check out the [__hour__](https://spark.apache.org/docs/latest/api/python/pyspark.sql.html#pyspark.sql.functions.hour) function and use it (we have already imported __`pyspark.sql.functions`__ as __`F`__ earlier\n",
        "- Output should be a bar graph displaying the total number of 404 errors per hour"
      ]
    },
    {
      "cell_type": "code",
      "execution_count": 130,
      "metadata": {
        "colab": {
          "base_uri": "https://localhost:8080/",
          "height": 802
        },
        "id": "T7Y0Dbz3XvEF",
        "outputId": "57ad5b0b-6e56-4783-f34b-e4a8af685283"
      },
      "outputs": [
        {
          "output_type": "execute_result",
          "data": {
            "text/html": [
              "\n",
              "  <div id=\"df-a8e45c71-7be3-4b90-847d-ed3b91b5db15\">\n",
              "    <div class=\"colab-df-container\">\n",
              "      <div>\n",
              "<style scoped>\n",
              "    .dataframe tbody tr th:only-of-type {\n",
              "        vertical-align: middle;\n",
              "    }\n",
              "\n",
              "    .dataframe tbody tr th {\n",
              "        vertical-align: top;\n",
              "    }\n",
              "\n",
              "    .dataframe thead th {\n",
              "        text-align: right;\n",
              "    }\n",
              "</style>\n",
              "<table border=\"1\" class=\"dataframe\">\n",
              "  <thead>\n",
              "    <tr style=\"text-align: right;\">\n",
              "      <th></th>\n",
              "      <th>hour</th>\n",
              "      <th>count</th>\n",
              "    </tr>\n",
              "  </thead>\n",
              "  <tbody>\n",
              "    <tr>\n",
              "      <th>0</th>\n",
              "      <td>0</td>\n",
              "      <td>773</td>\n",
              "    </tr>\n",
              "    <tr>\n",
              "      <th>1</th>\n",
              "      <td>1</td>\n",
              "      <td>648</td>\n",
              "    </tr>\n",
              "    <tr>\n",
              "      <th>2</th>\n",
              "      <td>2</td>\n",
              "      <td>868</td>\n",
              "    </tr>\n",
              "    <tr>\n",
              "      <th>3</th>\n",
              "      <td>3</td>\n",
              "      <td>601</td>\n",
              "    </tr>\n",
              "    <tr>\n",
              "      <th>4</th>\n",
              "      <td>4</td>\n",
              "      <td>351</td>\n",
              "    </tr>\n",
              "    <tr>\n",
              "      <th>5</th>\n",
              "      <td>5</td>\n",
              "      <td>305</td>\n",
              "    </tr>\n",
              "    <tr>\n",
              "      <th>6</th>\n",
              "      <td>6</td>\n",
              "      <td>269</td>\n",
              "    </tr>\n",
              "    <tr>\n",
              "      <th>7</th>\n",
              "      <td>7</td>\n",
              "      <td>455</td>\n",
              "    </tr>\n",
              "    <tr>\n",
              "      <th>8</th>\n",
              "      <td>8</td>\n",
              "      <td>705</td>\n",
              "    </tr>\n",
              "    <tr>\n",
              "      <th>9</th>\n",
              "      <td>9</td>\n",
              "      <td>837</td>\n",
              "    </tr>\n",
              "    <tr>\n",
              "      <th>10</th>\n",
              "      <td>10</td>\n",
              "      <td>1081</td>\n",
              "    </tr>\n",
              "    <tr>\n",
              "      <th>11</th>\n",
              "      <td>11</td>\n",
              "      <td>1153</td>\n",
              "    </tr>\n",
              "    <tr>\n",
              "      <th>12</th>\n",
              "      <td>12</td>\n",
              "      <td>1308</td>\n",
              "    </tr>\n",
              "    <tr>\n",
              "      <th>13</th>\n",
              "      <td>13</td>\n",
              "      <td>1151</td>\n",
              "    </tr>\n",
              "    <tr>\n",
              "      <th>14</th>\n",
              "      <td>14</td>\n",
              "      <td>1273</td>\n",
              "    </tr>\n",
              "    <tr>\n",
              "      <th>15</th>\n",
              "      <td>15</td>\n",
              "      <td>1379</td>\n",
              "    </tr>\n",
              "    <tr>\n",
              "      <th>16</th>\n",
              "      <td>16</td>\n",
              "      <td>1181</td>\n",
              "    </tr>\n",
              "    <tr>\n",
              "      <th>17</th>\n",
              "      <td>17</td>\n",
              "      <td>1203</td>\n",
              "    </tr>\n",
              "    <tr>\n",
              "      <th>18</th>\n",
              "      <td>18</td>\n",
              "      <td>916</td>\n",
              "    </tr>\n",
              "    <tr>\n",
              "      <th>19</th>\n",
              "      <td>19</td>\n",
              "      <td>851</td>\n",
              "    </tr>\n",
              "    <tr>\n",
              "      <th>20</th>\n",
              "      <td>20</td>\n",
              "      <td>814</td>\n",
              "    </tr>\n",
              "    <tr>\n",
              "      <th>21</th>\n",
              "      <td>21</td>\n",
              "      <td>876</td>\n",
              "    </tr>\n",
              "    <tr>\n",
              "      <th>22</th>\n",
              "      <td>22</td>\n",
              "      <td>914</td>\n",
              "    </tr>\n",
              "    <tr>\n",
              "      <th>23</th>\n",
              "      <td>23</td>\n",
              "      <td>936</td>\n",
              "    </tr>\n",
              "  </tbody>\n",
              "</table>\n",
              "</div>\n",
              "      <button class=\"colab-df-convert\" onclick=\"convertToInteractive('df-a8e45c71-7be3-4b90-847d-ed3b91b5db15')\"\n",
              "              title=\"Convert this dataframe to an interactive table.\"\n",
              "              style=\"display:none;\">\n",
              "        \n",
              "  <svg xmlns=\"http://www.w3.org/2000/svg\" height=\"24px\"viewBox=\"0 0 24 24\"\n",
              "       width=\"24px\">\n",
              "    <path d=\"M0 0h24v24H0V0z\" fill=\"none\"/>\n",
              "    <path d=\"M18.56 5.44l.94 2.06.94-2.06 2.06-.94-2.06-.94-.94-2.06-.94 2.06-2.06.94zm-11 1L8.5 8.5l.94-2.06 2.06-.94-2.06-.94L8.5 2.5l-.94 2.06-2.06.94zm10 10l.94 2.06.94-2.06 2.06-.94-2.06-.94-.94-2.06-.94 2.06-2.06.94z\"/><path d=\"M17.41 7.96l-1.37-1.37c-.4-.4-.92-.59-1.43-.59-.52 0-1.04.2-1.43.59L10.3 9.45l-7.72 7.72c-.78.78-.78 2.05 0 2.83L4 21.41c.39.39.9.59 1.41.59.51 0 1.02-.2 1.41-.59l7.78-7.78 2.81-2.81c.8-.78.8-2.07 0-2.86zM5.41 20L4 18.59l7.72-7.72 1.47 1.35L5.41 20z\"/>\n",
              "  </svg>\n",
              "      </button>\n",
              "      \n",
              "  <style>\n",
              "    .colab-df-container {\n",
              "      display:flex;\n",
              "      flex-wrap:wrap;\n",
              "      gap: 12px;\n",
              "    }\n",
              "\n",
              "    .colab-df-convert {\n",
              "      background-color: #E8F0FE;\n",
              "      border: none;\n",
              "      border-radius: 50%;\n",
              "      cursor: pointer;\n",
              "      display: none;\n",
              "      fill: #1967D2;\n",
              "      height: 32px;\n",
              "      padding: 0 0 0 0;\n",
              "      width: 32px;\n",
              "    }\n",
              "\n",
              "    .colab-df-convert:hover {\n",
              "      background-color: #E2EBFA;\n",
              "      box-shadow: 0px 1px 2px rgba(60, 64, 67, 0.3), 0px 1px 3px 1px rgba(60, 64, 67, 0.15);\n",
              "      fill: #174EA6;\n",
              "    }\n",
              "\n",
              "    [theme=dark] .colab-df-convert {\n",
              "      background-color: #3B4455;\n",
              "      fill: #D2E3FC;\n",
              "    }\n",
              "\n",
              "    [theme=dark] .colab-df-convert:hover {\n",
              "      background-color: #434B5C;\n",
              "      box-shadow: 0px 1px 3px 1px rgba(0, 0, 0, 0.15);\n",
              "      filter: drop-shadow(0px 1px 2px rgba(0, 0, 0, 0.3));\n",
              "      fill: #FFFFFF;\n",
              "    }\n",
              "  </style>\n",
              "\n",
              "      <script>\n",
              "        const buttonEl =\n",
              "          document.querySelector('#df-a8e45c71-7be3-4b90-847d-ed3b91b5db15 button.colab-df-convert');\n",
              "        buttonEl.style.display =\n",
              "          google.colab.kernel.accessAllowed ? 'block' : 'none';\n",
              "\n",
              "        async function convertToInteractive(key) {\n",
              "          const element = document.querySelector('#df-a8e45c71-7be3-4b90-847d-ed3b91b5db15');\n",
              "          const dataTable =\n",
              "            await google.colab.kernel.invokeFunction('convertToInteractive',\n",
              "                                                     [key], {});\n",
              "          if (!dataTable) return;\n",
              "\n",
              "          const docLinkHtml = 'Like what you see? Visit the ' +\n",
              "            '<a target=\"_blank\" href=https://colab.research.google.com/notebooks/data_table.ipynb>data table notebook</a>'\n",
              "            + ' to learn more about interactive tables.';\n",
              "          element.innerHTML = '';\n",
              "          dataTable['output_type'] = 'display_data';\n",
              "          await google.colab.output.renderOutput(dataTable, element);\n",
              "          const docLink = document.createElement('div');\n",
              "          docLink.innerHTML = docLinkHtml;\n",
              "          element.appendChild(docLink);\n",
              "        }\n",
              "      </script>\n",
              "    </div>\n",
              "  </div>\n",
              "  "
            ],
            "text/plain": [
              "    hour  count\n",
              "0      0    773\n",
              "1      1    648\n",
              "2      2    868\n",
              "3      3    601\n",
              "4      4    351\n",
              "5      5    305\n",
              "6      6    269\n",
              "7      7    455\n",
              "8      8    705\n",
              "9      9    837\n",
              "10    10   1081\n",
              "11    11   1153\n",
              "12    12   1308\n",
              "13    13   1151\n",
              "14    14   1273\n",
              "15    15   1379\n",
              "16    16   1181\n",
              "17    17   1203\n",
              "18    18    916\n",
              "19    19    851\n",
              "20    20    814\n",
              "21    21    876\n",
              "22    22    914\n",
              "23    23    936"
            ]
          },
          "metadata": {},
          "execution_count": 130
        }
      ],
      "source": [
        "# TODO: Replace <FILL IN> with appropriate code\n",
        "\n",
        "hourly_avg_errors_sorted_df = (not_found_df\n",
        "                                   .select(not_found_df.host, F.hour('time').alias('hour')))\n",
        "hourly_avg_errors_sorted_df = hourly_avg_errors_sorted_df.groupby('hour').count().sort(\"hour\")\n",
        "hourly_avg_errors_sorted_df = hourly_avg_errors_sorted_df.toPandas()\n",
        "hourly_avg_errors_sorted_df"
      ]
    },
    {
      "cell_type": "code",
      "execution_count": 131,
      "metadata": {
        "colab": {
          "base_uri": "https://localhost:8080/",
          "height": 299
        },
        "id": "R1vsAPs1XvEJ",
        "outputId": "fe85abb9-b846-40ab-d3ae-8e9a37dd58c2"
      },
      "outputs": [
        {
          "output_type": "execute_result",
          "data": {
            "text/plain": [
              "<matplotlib.axes._subplots.AxesSubplot at 0x7f84ca3bd5d0>"
            ]
          },
          "metadata": {},
          "execution_count": 131
        },
        {
          "output_type": "display_data",
          "data": {
            "image/png": "[encoded data removed]",
            "text/plain": [
              "<Figure size 432x288 with 1 Axes>"
            ]
          },
          "metadata": {
            "needs_background": "light"
          }
        }
      ],
      "source": [
        "hourly_avg_errors_sorted_df.plot(x='hour', y='count', kind='bar')"
      ]
    },
    {
      "cell_type": "markdown",
      "metadata": {
        "id": "GYWAsa8mY425"
      },
      "source": [
        "# Load Data"
      ]
    },
    {
      "cell_type": "markdown",
      "metadata": {
        "id": "woEUWlYCY9h0"
      },
      "source": [
        "Up till now, you have completed data extraction, data transformation, and some exploratory data analysis. In the end of this project, we will complete the last step of ETL process: data loading, so the data after  your processing, wrangling, cleaning, can be used by either yourself or other colleagues later. Since we have gone through a few iteration of data processing and data wrangling, it is a good idea to make sure which one is the current dataframe you want to store and load."
      ]
    },
    {
      "cell_type": "markdown",
      "metadata": {
        "id": "gde50KFwZCyR"
      },
      "source": [
        "## Your Turn: Q13: Check data integrity before loading"
      ]
    },
    {
      "cell_type": "code",
      "execution_count": 133,
      "metadata": {
        "colab": {
          "base_uri": "https://localhost:8080/"
        },
        "id": "Jp9HtJDZZDgm",
        "outputId": "df97f9d4-cb24-404e-9d3e-5b07b404d813"
      },
      "outputs": [
        {
          "output_type": "stream",
          "name": "stdout",
          "text": [
            "3400934\n",
            "['status', 'content_size', 'host', 'method', 'endpoint', 'protocol', 'time']\n"
          ]
        }
      ],
      "source": [
        "# TODO: Review the data frame you will like to store and load. Replace <FILL IN> with appropriate code\n",
        "\n",
        "print(logs_df.count())\n",
        "print(logs_df.columns)"
      ]
    },
    {
      "cell_type": "markdown",
      "metadata": {
        "id": "6KT_ajIJZFsi"
      },
      "source": [
        "To save your dataframe in CSV file format, you call simply replace the name of the dataframe and assign file name in the following:"
      ]
    },
    {
      "cell_type": "markdown",
      "metadata": {
        "id": "GuiBAZEqZJT1"
      },
      "source": [
        "## Your Turn: Q14: Save your data as a CSV file"
      ]
    },
    {
      "cell_type": "code",
      "execution_count": 134,
      "metadata": {
        "id": "DHLpKGA7ZP8P"
      },
      "outputs": [],
      "source": [
        "# TODO: Review the data frame you will like to store and load. Replace <FILL IN> with appropriate code\n",
        "\n",
        "logs_df.write.save('/content/logs_df.csv', format = 'csv')"
      ]
    },
    {
      "cell_type": "markdown",
      "metadata": {
        "id": "nkz9rKU3ZV7S"
      },
      "source": [
        "Similarly, you can also store and load your dataframe as a JSON file by completing the following:"
      ]
    },
    {
      "cell_type": "markdown",
      "metadata": {
        "id": "l6N5oSjgZaiX"
      },
      "source": [
        "## Your Turn: Q15: Save your data as a JSON file"
      ]
    },
    {
      "cell_type": "code",
      "execution_count": null,
      "metadata": {
        "id": "nPp5cHZeZZCQ"
      },
      "outputs": [],
      "source": [
        "# TODO: Review the data frame you will like to store and load. Replace <FILL IN> with appropriate code\n",
        "\n",
        "<FILL IN>.write.save(<\"FILL IN FILE NAME\">, format = 'json')"
      ]
    },
    {
      "cell_type": "code",
      "execution_count": null,
      "metadata": {
        "id": "56w3oyaOZgiE"
      },
      "outputs": [],
      "source": [
        "# TODO: Similarly, check the first 5 rows in the JSON file. Replace <FILL IN> with appropriate code\n",
        "\n",
        "spark_session\\\n",
        "\t.sparkContext\\\n",
        "\t.textFile(<\"FILL IN FILE NAME\">)\\\n",
        "\t.take(5)"
      ]
    },
    {
      "cell_type": "markdown",
      "metadata": {
        "id": "P9zYYUIcZjUU"
      },
      "source": [
        "There is a lot more you can do about data storing and loading in terms of data formats and settings. Check out more about these options [__here__](https://spark.apache.org/docs/latest/sql-data-sources-load-save-functions.html)."
      ]
    },
    {
      "cell_type": "markdown",
      "metadata": {
        "id": "lLXpioWzZlug"
      },
      "source": [
        "### Congratulations! You have finished the mini-project for this unit!"
      ]
    }
  ],
  "metadata": {
    "colab": {
      "name": "Mini_Project_Data_Wrangling_at_Scale_with_Spark.ipynb",
      "provenance": []
    },
    "kernelspec": {
      "display_name": "Python 3",
      "language": "python",
      "name": "python3"
    },
    "language_info": {
      "codemirror_mode": {
        "name": "ipython",
        "version": 3
      },
      "file_extension": ".py",
      "mimetype": "text/x-python",
      "name": "python",
      "nbconvert_exporter": "python",
      "pygments_lexer": "ipython3",
      "version": "3.7.3"
    },
    "name": "Mini_Project_Data_Wrangling_at_Scale_with_Spark_Solutions_checkpoint",
    "notebookId": 3935650049725854
  },
  "nbformat": 4,
  "nbformat_minor": 0
}